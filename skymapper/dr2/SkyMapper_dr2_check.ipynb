{
 "cells": [
  {
   "cell_type": "markdown",
   "id": "123aa0aa",
   "metadata": {},
   "source": [
    "## SkyMapper Data Release 2 (DR2) CountCheck"
   ]
  },
  {
   "cell_type": "markdown",
   "id": "91a54def",
   "metadata": {},
   "source": [
    "SkyMapper DR2 observattions has range from **2014-03-15(MJD=56730)** to **2018-03-14(MJD=58192)**.\\\n",
    "It contains **799 days** of observations, include **121494 exposures**, **505176683 objects** and **4714256791 observations**.\\\n",
    "The checked row number of each date could be found in skymapper/dr2/date_stat.csv"
   ]
  },
  {
   "cell_type": "code",
   "execution_count": null,
   "id": "63e8afbe",
   "metadata": {},
   "outputs": [],
   "source": [
    "import pyvo as vo\n",
    "import pandas as pd\n",
    "import numpy as np\n",
    "import os\n",
    "#from astropy.time import Time\n",
    "#from astropy import units as u\n",
    "from tqdm import tqdm, trange\n",
    "from math import ceil\n",
    "#from astropy.time import TimeDelta\n",
    "import time\n",
    "import threading\n",
    "import multiprocessing\n",
    "import matplotlib.pyplot as plt\n",
    "import filecmp"
   ]
  },
  {
   "cell_type": "markdown",
   "id": "7d2c9e21",
   "metadata": {},
   "source": [
    "**Get expect count number of observations for each day.**\\\n",
    "It seems the timelimit error in skymapper related to the output rows number compare with runtime:\n",
    "   * COUNT(\\*) in each date would definitly fail. \n",
    "   * COUNT(\\*) in each image_id would fail by 1/10 chance.\n",
    "   * SELECT object_id in each image_id never fail, but cost longtime to run. "
   ]
  },
  {
   "cell_type": "markdown",
   "id": "7bccaada",
   "metadata": {},
   "source": [
    "So the qurey below may not be intuitive version of counting numbers. "
   ]
  },
  {
   "cell_type": "code",
   "execution_count": null,
   "id": "75752b7e",
   "metadata": {},
   "outputs": [],
   "source": [
    "\"\"\"\n",
    "Thus, straightforward qurey like:\n",
    "    1) SELECT COUNT(*) FROM DR2.photometry WHERE image_id >= 20140315000000 AND image_id < 20140316000000\n",
    "    2) SELECT COUNT(*) FROM dr2.photometry as p AND dr2.images as i WHERE p.image_id = i.image_id AND i.date < 56730 AND i.date >= 56729\n",
    "Are failing directly.\n",
    "\"\"\"\n",
    "#Get whole image_id list\n",
    "qurey = \"\"\"SELECT image_id from dr2.images\"\"\"\n",
    "tap_service = vo.dal.TAPService(\"https://api.skymapper.nci.org.au/public/tap/\")\n",
    "image_stat = tap_service.search(qurey)\n",
    "image_stat = pd.DataFrame(image_stat)\n",
    "image_stat = pd.to_csv(\"list.csv\")"
   ]
  },
  {
   "cell_type": "code",
   "execution_count": null,
   "id": "2e825b46",
   "metadata": {},
   "outputs": [],
   "source": [
    "def force_count(start,end):\n",
    "    listpd =  pd.read_csv('list.txt', sep=\" \")\n",
    "    for index in range(start,end):\n",
    "        image_id = listpd[\"image_id\"][index]\n",
    "        count = 0\n",
    "        while(True):\n",
    "            tap_service = vo.dal.TAPService(\"https://api.skymapper.nci.org.au/public/tap/\") \n",
    "            #Three possible qurey below:\n",
    "            \n",
    "            #try qurey1: short runtime but easy get limitError\n",
    "            try: \n",
    "                qurey1 = f\"\"\"SELECT COUNT(*) FROM dr2.photometry WHERE image_id = {image_id} \"\"\"\n",
    "                each_image = tap_service.search(qurey1)\n",
    "                each_image = pd.DataFrame(each_image)\n",
    "                count = each_image[\"count_all\"][0]\n",
    "                break\n",
    "            except vo.dal.exceptions.DALQueryError:\n",
    "                file = open(\"errormessage.txt\", \"a\")  \n",
    "                file.write(f\"{image_id:.0f} qurey1 failed\\n\")\n",
    "                file.close()\n",
    "            #try qurey2: medium runtime, fair get limitError\n",
    "            try: \n",
    "                qurey2 = f\"\"\"SELECT MAX(object_id_local) FROM dr2.photometry WHERE image_id = {image_id} GROUP BY ccd\"\"\"\n",
    "                each_max = tap_service.search(qurey2)\n",
    "                each_max = pd.DataFrame(each_max)\n",
    "                count = each_max[\"max\"].sum()\n",
    "                break\n",
    "            except vo.dal.exceptions.DALQueryError:\n",
    "                file = open(\"errormessage.txt\", \"a\")  \n",
    "                file.write(f\"{image_id:.0f} qurey2 failed\\n\")\n",
    "                file.close()\n",
    "            #try qurey3: long time to qurey, hardest to get error\n",
    "            try: \n",
    "                qurey3 = f\"\"\"SELECT object_id FROM dr2.photometry WHERE image_id = {image_id}\"\"\"\n",
    "                all_object = tap_service.search(qurey3)\n",
    "                all_object = pd.DataFrame(all_object)\n",
    "                count = all_object.shape[0]\n",
    "                break\n",
    "            except vo.dal.exceptions.DALQueryError:\n",
    "                file = open(\"errormessage.txt\", \"a\")  \n",
    "                file.write(f\"{image_id:.0f} qurey3 failed\\n\")\n",
    "                file.close()\n",
    "\n",
    "         # Wirte to result \n",
    "        file = open(\"result.txt\", \"a\") \n",
    "        file.write(f\"{image_id} {count}\\n\")\n",
    "        file.close()"
   ]
  },
  {
   "cell_type": "code",
   "execution_count": null,
   "id": "dabc8d21",
   "metadata": {},
   "outputs": [],
   "source": [
    "jobs = []\n",
    "listpd =  pd.read_csv('list.txt', sep=\" \")\n",
    "Slice = ceil (listpd.shape[0] / 20)\n",
    "for i in range(20):\n",
    "\tprocess = multiprocessing.Process(target=force_count, args=(Slice * i, Slice * (i+1)))\n",
    "\tjobs.append(process)\n",
    "\n",
    "for j in jobs: \n",
    "\tj.start()\n",
    "\n",
    "for j in jobs:\n",
    "\tj.join()"
   ]
  },
  {
   "cell_type": "code",
   "execution_count": null,
   "id": "d452119f",
   "metadata": {},
   "outputs": [],
   "source": [
    "df = pd.read_csv('result.txt', sep=\" \")\n",
    "df = df.drop(columns=['index'])\n",
    "df = df.sort_values(by='image_id')\n",
    "df = df.astype({\"image_id\": str}, errors='raise') \n",
    "df['date'] = df['image_id'].str.slice(0, 9)\n",
    "df['date'] = [f\"{y}-{m}-{d}\" for y,m, d in zip(df['date'].str.slice(0, 4), df['date'].str.slice(4, 6),df['date'].str.slice(6, 8))]\n",
    "df2 = df.drop(columns=['image_id'])\n",
    "df2 = df2.groupby(['date']).sum()\n",
    "df2.to_csv(\"refer.csv\")"
   ]
  },
  {
   "cell_type": "markdown",
   "id": "fafe0506",
   "metadata": {},
   "source": [
    "**Get actual row numbers in database**"
   ]
  },
  {
   "cell_type": "code",
   "execution_count": null,
   "id": "1da3c01f",
   "metadata": {},
   "outputs": [],
   "source": [
    "#56730,58192\n",
    "for index in range(56730,58192):\n",
    "    date = Time(index, format='mjd') #Timeobject\n",
    "    date = date.to_value('iso',subfmt='date') #String formate 2014-03-20\n",
    "    DATA_DIR = \"/epyc/projects/adam_datasets/skyMapper_dr2/data_test\"\n",
    "    file_name = os.path.join(DATA_DIR, f\"dr2_observations_{date}.h5\")\n",
    "    if(not os.path.isfile(file_name)):\n",
    "        continue\n",
    "        \n",
    "    store = pd.HDFStore(file_name, mode = \"r\")\n",
    "    qurey_num = store.get_storer('data').nrows\n",
    "    store.close() \n",
    "    \n",
    "    file = open(\"qureyNum.txt\", \"a\")  # append mode\n",
    "    file.write(f\"{date},{qurey_num}\\n\")\n",
    "    file.close()"
   ]
  },
  {
   "cell_type": "markdown",
   "id": "5ba59695",
   "metadata": {},
   "source": [
    "**Compare expected and actual and statstic**"
   ]
  },
  {
   "cell_type": "code",
   "execution_count": 18,
   "id": "7bb0860f",
   "metadata": {},
   "outputs": [
    {
     "data": {
      "text/plain": [
       "True"
      ]
     },
     "execution_count": 18,
     "metadata": {},
     "output_type": "execute_result"
    }
   ],
   "source": [
    "filecmp.cmp(\"/astro/users/yyang35/refer.csv\", \"/astro/users/yyang35/qureyNum.txt\")"
   ]
  },
  {
   "cell_type": "code",
   "execution_count": null,
   "id": "21e103c6",
   "metadata": {},
   "outputs": [],
   "source": [
    "expected = pd.read_csv(\"refer.csv\")\n",
    "fig, ax = plt.subplots(figsize =(20, 150))\n",
    "ax.barh(expected['date'], expected['count'])\n",
    "ax.grid(b = True, color ='grey',\n",
    "        linestyle ='-.', linewidth = 0.5,\n",
    "        alpha = 0.2)\n",
    "for i in ax.patches:\n",
    "    plt.text(i.get_width()+0.2, i.get_y()+0.5,\n",
    "             str(round((i.get_width()), 2)),\n",
    "             fontsize = 6,color ='grey')\n",
    "ax.xaxis.set_ticks_position('none')\n",
    "ax.yaxis.set_ticks_position('none')\n",
    "ax.invert_yaxis()\n",
    "plt.show()"
   ]
  }
 ],
 "metadata": {
  "kernelspec": {
   "display_name": "Precovery (Python 3.9)",
   "language": "python",
   "name": "precovery_py39"
  },
  "language_info": {
   "codemirror_mode": {
    "name": "ipython",
    "version": 3
   },
   "file_extension": ".py",
   "mimetype": "text/x-python",
   "name": "python",
   "nbconvert_exporter": "python",
   "pygments_lexer": "ipython3",
   "version": "3.9.12"
  }
 },
 "nbformat": 4,
 "nbformat_minor": 5
}
