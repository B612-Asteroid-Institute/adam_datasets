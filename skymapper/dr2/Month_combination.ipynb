{
 "cells": [
  {
   "cell_type": "code",
   "execution_count": 1,
   "id": "d032268a",
   "metadata": {},
   "outputs": [
    {
     "name": "stderr",
     "output_type": "stream",
     "text": [
      "\n",
      "WARNING: version mismatch between CFITSIO header (v4.000999999999999) and linked library (v4.01).\n",
      "\n",
      "\n",
      "WARNING: version mismatch between CFITSIO header (v4.000999999999999) and linked library (v4.01).\n",
      "\n",
      "\n",
      "WARNING: version mismatch between CFITSIO header (v4.000999999999999) and linked library (v4.01).\n",
      "\n"
     ]
    }
   ],
   "source": [
    "from precovery.orbit import Orbit, EpochTimescale\n",
    "from precovery import precover\n"
   ]
  },
  {
   "cell_type": "code",
   "execution_count": null,
   "id": "6f8d5f3f",
   "metadata": {},
   "outputs": [],
   "source": [
    "\n",
    "f = sorted(glob.glob(os.path.join(\"/epyc/projects/adam_datasets/skyMapper_dr2/data_April\", \"*.csv\")))\n",
    "dfs = []\n",
    "for i in f:\n",
    "    df = pd.read_csv(i)\n",
    "    df[\"file_name\"] = i\n",
    "    dfs.append(df)\n",
    "obs = pd.concat(dfs,ignore_index = True)"
   ]
  }
 ],
 "metadata": {
  "kernelspec": {
   "display_name": "Precovery (Python 3.9)",
   "language": "python",
   "name": "precovery_py39"
  },
  "language_info": {
   "codemirror_mode": {
    "name": "ipython",
    "version": 3
   },
   "file_extension": ".py",
   "mimetype": "text/x-python",
   "name": "python",
   "nbconvert_exporter": "python",
   "pygments_lexer": "ipython3",
   "version": "3.9.12"
  }
 },
 "nbformat": 4,
 "nbformat_minor": 5
}
