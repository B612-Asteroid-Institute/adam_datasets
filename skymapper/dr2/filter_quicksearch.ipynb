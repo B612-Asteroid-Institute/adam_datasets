{
 "cells": [
  {
   "cell_type": "code",
   "execution_count": 1,
   "id": "12ae9432",
   "metadata": {},
   "outputs": [],
   "source": [
    "import pyvo as vo\n",
    "import pandas as pd\n",
    "import numpy as np\n",
    "import os\n",
    "from astropy.time import Time\n",
    "from astropy import units as u\n",
    "from tqdm import tqdm, trange\n",
    "from math import ceil\n",
    "from astropy.time import TimeDelta\n",
    "import time\n",
    "import threading\n",
    "import multiprocessing\n",
    "import glob\n",
    "import pandas as pd"
   ]
  },
  {
   "cell_type": "code",
   "execution_count": 4,
   "id": "a9e026e3",
   "metadata": {},
   "outputs": [],
   "source": [
    "def to_csv(start,end):\n",
    "    for index in range(start,end):\n",
    "        date = Time(index, format='mjd') #Timeobject\n",
    "        date = date.to_value('iso',subfmt='date') #String formate 2014-03-20\n",
    "        DATA_DIR = \"/epyc/projects/adam_datasets/skyMapper_dr2/data_csv_filter\"\n",
    "        file_name = os.path.join(DATA_DIR, f\"dr2_observations_{date}.csv\")\n",
    "        if(not os.path.isfile(file_name)):\n",
    "            continue\n",
    "\n",
    "        store = pd.read_csv(file_name)\n",
    "        store = store[store['exposure_duration'] >= 40]\n",
    "        DATA_DIR = \"/epyc/projects/adam_datasets/skyMapper_dr2/data_csv_noquick\"\n",
    "        file_name = os.path.join(DATA_DIR, f\"dr2_observations_{date}.csv\")\n",
    "        store.to_csv(path_or_buf= file_name, index = False)"
   ]
  },
  {
   "cell_type": "code",
   "execution_count": 5,
   "id": "0bdaee02",
   "metadata": {},
   "outputs": [],
   "source": [
    "#56730,58192\n",
    "jobs = []\n",
    "Slice = ceil ((58192-56730) / 20)\n",
    "for i in range(20):\n",
    "\tprocess = multiprocessing.Process(target=to_csv, args=(56730+Slice * i, 56730+Slice * (i+1) ))\n",
    "\tjobs.append(process)\n",
    "\n",
    "for j in jobs: \n",
    "\tj.start()\n",
    "\n",
    "for j in jobs:\n",
    "\tj.join()"
   ]
  },
  {
   "cell_type": "code",
   "execution_count": null,
   "id": "3a4f642d",
   "metadata": {},
   "outputs": [],
   "source": []
  }
 ],
 "metadata": {
  "kernelspec": {
   "display_name": "Precovery (Python 3.9)",
   "language": "python",
   "name": "precovery_py39"
  },
  "language_info": {
   "codemirror_mode": {
    "name": "ipython",
    "version": 3
   },
   "file_extension": ".py",
   "mimetype": "text/x-python",
   "name": "python",
   "nbconvert_exporter": "python",
   "pygments_lexer": "ipython3",
   "version": "3.9.12"
  }
 },
 "nbformat": 4,
 "nbformat_minor": 5
}
