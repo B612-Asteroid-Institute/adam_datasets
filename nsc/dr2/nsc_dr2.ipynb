{
 "cells": [
  {
   "cell_type": "markdown",
   "id": "0a18552a",
   "metadata": {},
   "source": [
    "## All-sky NOIRLab Source Catalog (DR2)"
   ]
  },
  {
   "cell_type": "markdown",
   "id": "6e500ab0",
   "metadata": {},
   "source": [
    "To install astro-datalab:  \n",
    "```pip install --ignore-installed --no-cache-dir astro-datalab```\n",
    "\n",
    "Login via the command line to datalab:  \n",
    "```datalab login``` \n",
    "\n",
    "\n",
    "Information on the columns each of tables contains can be found here:  \n",
    "[Exposure](https://datalab.noirlab.edu/query.php?name=nsc_dr2.exposure)  \n",
    "[Measurements](https://datalab.noirlab.edu/query.php?name=nsc_dr2.meas)  \n",
    "[Coverage](https://datalab.noirlab.edu/query.php?name=nsc_dr2.coverage)  \n",
    "[Chip](https://datalab.noirlab.edu/query.php?name=nsc_dr2.chip)  \n",
    "[Object](https://datalab.noirlab.edu/query.php?name=nsc_dr2.object)  \n",
    "\n",
    "\n",
    "\n",
    "**References**:  \n",
    "Nidever, D. L., Dey, A., Fasbender, K., Juneau, S., Meisner, A. M., Wishart, J., Scott, A., Matt, K., Nikutta, R., & Pucha, R. (2021). Second Data Release of the All-sky NOIRLab Source Catalog. The Astronomical Journal, 161(4), 192. https://doi.org/10.3847/1538-3881/ABD6E1"
   ]
  },
  {
   "cell_type": "code",
   "execution_count": 1,
   "id": "61f48f6d",
   "metadata": {},
   "outputs": [],
   "source": [
    "import os\n",
    "import glob\n",
    "import pandas as pd\n",
    "import numpy as np\n",
    "import healpy as hp \n",
    "import matplotlib.pyplot as plt\n",
    "\n",
    "%matplotlib inline \n",
    "\n",
    "from astropy.time import Time"
   ]
  },
  {
   "cell_type": "code",
   "execution_count": 2,
   "id": "21466eaf",
   "metadata": {},
   "outputs": [],
   "source": [
    "DATA_DIR = \"/epyc/projects/thor/thor_data/nsc/\""
   ]
  },
  {
   "cell_type": "code",
   "execution_count": null,
   "id": "b3a15b0f",
   "metadata": {},
   "outputs": [],
   "source": [
    "from dl import authClient as ac\n",
    "from dl import queryClient as qc\n",
    "from getpass import getpass\n",
    "\n",
    "username = 'moeyensj'\n",
    "token = ac.login(username,getpass('Account Password: '))\n",
    "if not ac.isValidToken(token):\n",
    "    print('Error: invalid login for user %s (%s)' % (username,token))\n",
    "else:\n",
    "    print(\"Login token:   %s\" % token)"
   ]
  },
  {
   "cell_type": "markdown",
   "id": "c680d01f",
   "metadata": {},
   "source": [
    "Get the contents of the `exposure` table."
   ]
  },
  {
   "cell_type": "code",
   "execution_count": 11,
   "id": "71dc9a7f",
   "metadata": {},
   "outputs": [],
   "source": [
    "file_name = os.path.join(DATA_DIR, \"nsc_dr2_exposure.csv\")\n",
    "if not os.path.exists(file_name):\n",
    "    query = \"\"\"SELECT * FROM nsc_dr2.exposure ORDER BY mjd ASC\"\"\"\n",
    "    result = qc.query(token, sql=query, fmt='csv', out=file_name)\n",
    "exposures = pd.read_csv(file_name, index_col=False)"
   ]
  },
  {
   "cell_type": "code",
   "execution_count": 15,
   "id": "e01bd2c5-d634-4fe7-a258-5f9b43e4201e",
   "metadata": {},
   "outputs": [
    {
     "data": {
      "text/plain": [
       "412116"
      ]
     },
     "execution_count": 15,
     "metadata": {},
     "output_type": "execute_result"
    }
   ],
   "source": [
    "len(exposures)"
   ]
  },
  {
   "cell_type": "code",
   "execution_count": 9,
   "id": "9e8aa8c7-5be5-4dab-a8d6-ece3287bdaf8",
   "metadata": {},
   "outputs": [
    {
     "data": {
      "text/plain": [
       "array(['2012-09-23T03:40:41.661', '2019-11-16T01:25:22.744'], dtype='<U23')"
      ]
     },
     "execution_count": 9,
     "metadata": {},
     "output_type": "execute_result"
    }
   ],
   "source": [
    "Time([exposures[\"mjd\"].min(), exposures[\"mjd\"].max()], scale=\"utc\", format=\"mjd\").isot"
   ]
  },
  {
   "cell_type": "code",
   "execution_count": 5,
   "id": "cf4f440c-2185-487e-9f50-72685170959e",
   "metadata": {},
   "outputs": [
    {
     "data": {
      "text/plain": [
       "56193.1532599614"
      ]
     },
     "execution_count": 5,
     "metadata": {},
     "output_type": "execute_result"
    }
   ],
   "source": []
  },
  {
   "cell_type": "code",
   "execution_count": null,
   "id": "7758acba",
   "metadata": {},
   "outputs": [],
   "source": [
    "# cut on 20 sigma, bright exposures (< 20)\n",
    "exposures[exposures[\"instrument\"] == \"c4d\"].sort_values(by=[\"depth10sig\"], ascending=False)"
   ]
  },
  {
   "cell_type": "code",
   "execution_count": null,
   "id": "bb7565bb",
   "metadata": {},
   "outputs": [],
   "source": [
    "exposures[exposures[\"depth10sig\"] > 22]"
   ]
  },
  {
   "cell_type": "code",
   "execution_count": null,
   "id": "ea947778",
   "metadata": {},
   "outputs": [],
   "source": [
    "file_name = os.path.join(DATA_DIR, \"nsc_dr2_coverage.csv\")\n",
    "if not os.path.exists(file_name):\n",
    "    query = \"\"\"SELECT * FROM nsc_dr2.coverage LIMIT 100\"\"\"\n",
    "    result = qc.query(token, sql=query, fmt='csv', out=file_name)\n",
    "coverage = pd.read_csv(file_name, index_col=False)"
   ]
  },
  {
   "cell_type": "code",
   "execution_count": null,
   "id": "4fcdc68d",
   "metadata": {},
   "outputs": [],
   "source": [
    "exposures.columns"
   ]
  },
  {
   "cell_type": "code",
   "execution_count": null,
   "id": "1f6807e7",
   "metadata": {},
   "outputs": [],
   "source": [
    "visits = exposures.groupby(by=[\"nest4096\"])[\"mjd\"].describe()"
   ]
  },
  {
   "cell_type": "code",
   "execution_count": null,
   "id": "cc6d80a0",
   "metadata": {},
   "outputs": [],
   "source": [
    "len(visits)"
   ]
  },
  {
   "cell_type": "code",
   "execution_count": null,
   "id": "5c19f7aa",
   "metadata": {},
   "outputs": [],
   "source": [
    "visits[\"range\"] = visits[\"max\"] - visits[\"min\"]\n",
    "visits.head()"
   ]
  },
  {
   "cell_type": "code",
   "execution_count": null,
   "id": "418598df",
   "metadata": {},
   "outputs": [],
   "source": [
    "visits[(visits[\"range\"] >= 10) & (visits[\"count\"] >= 10)] "
   ]
  },
  {
   "cell_type": "code",
   "execution_count": null,
   "id": "0705cb1d",
   "metadata": {},
   "outputs": [],
   "source": [
    "visits[((visits[\"count\"] / visits[\"range\"]) >= 1) & (visits[\"count\"] >= 10) & (visits[\"range\"] >= 10)]"
   ]
  },
  {
   "cell_type": "code",
   "execution_count": null,
   "id": "dbeaa4ec",
   "metadata": {},
   "outputs": [],
   "source": [
    "exposures[exposures[\"nest4096\"] == 34153899][\"dateobs\"]"
   ]
  },
  {
   "cell_type": "code",
   "execution_count": null,
   "id": "5e5e47a7",
   "metadata": {},
   "outputs": [],
   "source": [
    "fig, ax = plt.subplots(1, 1, dpi=200)\n",
    "ax.scatter(exposures[(exposures[\"elat\"] <= 20) & (exposures[\"elat\"] >= -20)][\"mjd\"].values, exposures[(exposures[\"elat\"] <= 20) & (exposures[\"elat\"] >= -20)][\"elat\"].values, s=1)"
   ]
  },
  {
   "cell_type": "code",
   "execution_count": null,
   "id": "47c696dc",
   "metadata": {},
   "outputs": [],
   "source": [
    "fig, ax = plt.subplots(1, 1)\n",
    "ax.hist(exposures[exposures[\"nest4096\"] == 73819750][\"mjd\"].values, bins = 100)"
   ]
  },
  {
   "cell_type": "code",
   "execution_count": null,
   "id": "53d2e3c1",
   "metadata": {},
   "outputs": [],
   "source": [
    "Time([57000],scale=\"utc\", format=\"mjd\").isot"
   ]
  },
  {
   "cell_type": "markdown",
   "id": "21dc827a",
   "metadata": {},
   "source": [
    "The NSC DR2 release contains data from three instruments:"
   ]
  },
  {
   "cell_type": "code",
   "execution_count": 8,
   "id": "1ee12c5b",
   "metadata": {},
   "outputs": [
    {
     "data": {
      "text/plain": [
       "c4d    340952\n",
       "k4m     41561\n",
       "ksb     29603\n",
       "Name: instrument, dtype: int64"
      ]
     },
     "execution_count": 8,
     "metadata": {},
     "output_type": "execute_result"
    }
   ],
   "source": [
    "exposures[\"instrument\"].value_counts()"
   ]
  },
  {
   "cell_type": "markdown",
   "id": "0eaa70bc",
   "metadata": {},
   "source": [
    "CTIO-4m+DECam : c4d  \n",
    "KPNO-4m+Mosaic3 : ksb  \n",
    "Bok-2.3+90Prime : k4m  "
   ]
  },
  {
   "cell_type": "markdown",
   "id": "0d1e3c26",
   "metadata": {},
   "source": [
    "Number of measurements per instrument:"
   ]
  },
  {
   "cell_type": "code",
   "execution_count": null,
   "id": "d2bd7f20",
   "metadata": {},
   "outputs": [],
   "source": [
    "exposures.groupby(by=\"instrument\")[\"nmeas\"].sum()"
   ]
  },
  {
   "cell_type": "code",
   "execution_count": null,
   "id": "834d3a1c",
   "metadata": {},
   "outputs": [],
   "source": [
    "exposures.groupby(by=\"instrument\")[\"mjd\"].apply(lambda x : x.max() - x.min())"
   ]
  },
  {
   "cell_type": "code",
   "execution_count": null,
   "id": "87bb3b4a",
   "metadata": {},
   "outputs": [],
   "source": [
    "exposures.groupby(by=\"instrument\")[\"mjd\"].describe()"
   ]
  },
  {
   "cell_type": "code",
   "execution_count": null,
   "id": "36777632",
   "metadata": {},
   "outputs": [],
   "source": [
    "fig, ax = plt.subplots(1, 1, dpi=200)\n",
    "for instrument in exposures[\"instrument\"].unique():\n",
    "    mask = exposures[\"instrument\"].isin([instrument])\n",
    "\n",
    "    ax.scatter(\n",
    "        exposures[mask][\"mjd\"].values, \n",
    "        exposures[mask][\"nmeas\"].values, \n",
    "        label=instrument,\n",
    "        s=1\n",
    "    )\n",
    "ax.set_yscale(\"log\")\n",
    "ax.legend(\n",
    "    frameon=False,\n",
    "    bbox_to_anchor=(1.03, 0.6)\n",
    ")\n",
    "ax.set_ylabel(\"Measurements\")\n",
    "ax.set_xlabel(\"Observation Time [MJD]\")"
   ]
  },
  {
   "cell_type": "code",
   "execution_count": null,
   "id": "2c6d44a4",
   "metadata": {},
   "outputs": [],
   "source": [
    "fig, ax = plt.subplots(1, 1, dpi=200)\n",
    "for instrument in exposures[\"instrument\"].unique():\n",
    "    mask = exposures[\"instrument\"].isin([instrument])\n",
    "\n",
    "    ax.scatter(\n",
    "        exposures[mask][\"mjd\"].values, \n",
    "        exposures[mask][\"depth95\"].values, \n",
    "        label=instrument,\n",
    "        s=1\n",
    "    )\n",
    "ax.legend(\n",
    "    frameon=False,\n",
    "    bbox_to_anchor=(1.03, 0.6)\n",
    ")\n",
    "ax.set_ylabel(r\"Depth $P_{95}$\")\n",
    "ax.set_xlabel(\"Observation Time [MJD]\")"
   ]
  },
  {
   "cell_type": "code",
   "execution_count": null,
   "id": "befb17dd",
   "metadata": {},
   "outputs": [],
   "source": [
    "start_mjd = 56515\n",
    "window_size = 20\n",
    "window = exposures[\n",
    "    (exposures[\"instrument\"] == \"c4d\") \n",
    "    & (exposures[\"mjd\"] <= start_mjd + window_size)\n",
    "    & (exposures[\"mjd\"] >= start_mjd)\n",
    "]"
   ]
  },
  {
   "cell_type": "code",
   "execution_count": null,
   "id": "f9790cc7",
   "metadata": {},
   "outputs": [],
   "source": [
    "np.round(window[\"mjd\"].max(), 2), np.round(window[\"mjd\"].min() - 0.01, 2)"
   ]
  },
  {
   "cell_type": "code",
   "execution_count": null,
   "id": "b4f11f64",
   "metadata": {},
   "outputs": [],
   "source": [
    "query = \"\"\"\n",
    "SELECT COUNT(*)\n",
    "FROM nsc_dr2.object \n",
    "WHERE (ndet = 1)\n",
    "\"\"\"\n",
    "results = qc.query(token, adql=query, fmt='pandas', timeout=3600, async_=True, wait=True, poll=10, verbose=1)\n",
    "results"
   ]
  },
  {
   "cell_type": "code",
   "execution_count": null,
   "id": "cc6038ac",
   "metadata": {},
   "outputs": [],
   "source": [
    "query = \"\"\"\n",
    "SELECT COUNT(*)\n",
    "FROM nsc_dr2.object \n",
    "WHERE (ndet <= 4)\n",
    "\"\"\"\n",
    "results = qc.query(token, adql=query, fmt='pandas', timeout=3600, async_=True, wait=True, poll=10, verbose=1)\n",
    "results"
   ]
  },
  {
   "cell_type": "markdown",
   "id": "33528812",
   "metadata": {},
   "source": [
    "Number of objects with ndet<=4: 1763381575  \n",
    "Number of objects with ndet==1: 886983556 "
   ]
  },
  {
   "cell_type": "code",
   "execution_count": null,
   "id": "57ee9bcb",
   "metadata": {},
   "outputs": [],
   "source": [
    "ras = np.linspace(0, 360, 360 * 20 + 1)"
   ]
  },
  {
   "cell_type": "code",
   "execution_count": null,
   "id": "733b055b",
   "metadata": {},
   "outputs": [],
   "source": [
    "f\"{ras[103]:06.2f}\""
   ]
  },
  {
   "cell_type": "code",
   "execution_count": null,
   "id": "653d215b",
   "metadata": {},
   "outputs": [],
   "source": [
    "def queryRASlice(ra_start, ra_end):\n",
    "    \n",
    "    file_name = os.path.join(DATA_DIR, f\"nsc_dr2_observations_{ra_start:06.2f}_{ra_end:06.2f}.csv\")\n",
    "    \n",
    "    if not os.path.exists(file_name):\n",
    "        query = f\"\"\"\n",
    "        SELECT o.id, o.ra AS mean_ra, o.dec AS mean_dec, o.ndet, o.nphot, o.mjd AS mean_mjd, o.deltamjd, m.measid, m.mjd, m.ra, m.dec, m.raerr, m.decerr, m.mag_auto, m.magerr_auto, m.filter, m.exposure, m.class_star \n",
    "        FROM nsc_dr2.object AS o \n",
    "        JOIN nsc_dr2.meas as m \n",
    "        ON o.id = m.objectId \n",
    "        WHERE (o.ndet <= 4) AND (o.ra >= {ra_start}) AND (o.ra < {ra_end})\n",
    "        \"\"\"\n",
    "        results = qc.query(token, adql=query, fmt='pandas', timeout=3600, async_=True, wait=True, poll=5, verbose=0)\n",
    "        results.sort_values(by=[\"mjd\", \"measid\"], inplace=True, ascending=[True, True])\n",
    "        results.to_csv(file_name, index=False)\n",
    "        \n",
    "    else:\n",
    "        pass\n",
    "        \n",
    "    return"
   ]
  },
  {
   "cell_type": "code",
   "execution_count": null,
   "id": "851cc4ce",
   "metadata": {},
   "outputs": [],
   "source": [
    "import multiprocessing as mp\n",
    "\n",
    "os.nice(10)\n",
    "\n",
    "pool = mp.Pool(10)\n",
    "pool.starmap(\n",
    "    queryRASlice,\n",
    "    zip(ras[:-1], ras[1:])\n",
    ")\n",
    "pool.close()"
   ]
  },
  {
   "cell_type": "code",
   "execution_count": null,
   "id": "d417c434",
   "metadata": {},
   "outputs": [],
   "source": [
    "exposures[\"mjd\"].min(), exposures[\"mjd\"].max()\n",
    " "
   ]
  },
  {
   "cell_type": "code",
   "execution_count": null,
   "id": "8d647081",
   "metadata": {},
   "outputs": [],
   "source": [
    "window_size = 31\n",
    "window_starts = np.arange(\n",
    "    np.floor(exposures[\"mjd\"].min()), \n",
    "    np.ceil(exposures[\"mjd\"].max()), \n",
    "    window_size\n",
    ")\n",
    "observation_files = sorted(glob.glob(os.path.join(DATA_DIR, \"nsc_dr2_observations*.csv\")))"
   ]
  },
  {
   "cell_type": "code",
   "execution_count": null,
   "id": "407ca00b",
   "metadata": {},
   "outputs": [],
   "source": [
    "def processWindow(window_file_name, observations):\n",
    "    if len(observations) > 0:\n",
    "        observations.to_hdf(\n",
    "            window_file_name, \n",
    "            key=\"data\", \n",
    "            mode=\"a\", \n",
    "            append=True, \n",
    "            min_itemsize={'id': 40, 'measid': 40, 'exposure': 40, 'filter' : 2},\n",
    "        )\n",
    "    return"
   ]
  },
  {
   "cell_type": "code",
   "execution_count": null,
   "id": "77c5bf04",
   "metadata": {},
   "outputs": [],
   "source": [
    "pool.close()"
   ]
  },
  {
   "cell_type": "code",
   "execution_count": null,
   "id": "fb5486b6",
   "metadata": {},
   "outputs": [],
   "source": [
    "import multiprocessing as mp\n",
    "\n",
    "os.nice(10)\n",
    "\n",
    "pool = mp.Pool(40)\n",
    "\n",
    "objids = []\n",
    "obsids = []\n",
    "observation_files_completed = np.array([])\n",
    "for i, observation_file in enumerate(observation_files):\n",
    "    observations = pd.read_csv(observation_file, index_col=False)\n",
    "    objids.append(observations[\"id\"].unique())\n",
    "    obsids.append(observations[\"measid\"].unique())\n",
    "    \n",
    "    windows = []\n",
    "    window_file_names = []\n",
    "    for window_start in window_starts:\n",
    "        \n",
    "        window_end = window_start + window_size\n",
    "        start_isot = Time(window_start, scale=\"utc\", format=\"mjd\").isot.split(\"T\")[0]\n",
    "        end_isot = Time(window_end, scale=\"utc\", format=\"mjd\").isot.split(\"T\")[0]\n",
    "        \n",
    "        window_file_name = os.path.join(DATA_DIR, \"hdf5\", f\"nsc_dr2_observations_{start_isot}_{end_isot}.h5\")\n",
    "        window_file_names.append(window_file_name)\n",
    "        \n",
    "        observations_window = observations[(observations[\"mjd\"] >= window_start) & (observations[\"mjd\"] < window_end)]\n",
    "        windows.append(observations_window)\n",
    "        \n",
    "    pool.starmap(\n",
    "        processWindow,\n",
    "        zip(window_file_names, windows)\n",
    "    )\n",
    "    \n",
    "    observation_files_completed = np.concatenate([observation_files_completed, np.array([observation_file])])\n",
    "    np.savetxt(\"files_processed.txt\", observation_files_completed, delimiter=\"\\n\", fmt=\"%s\")\n",
    "        \n",
    "    if (i + 1) % 20 == 0:\n",
    "        print(f\"Processed {i + 1} observations files.\")\n",
    "        \n",
    "objids = np.concatenate(objids)\n",
    "obsids = np.concatenate(obsids)\n",
    "pool.close()"
   ]
  },
  {
   "cell_type": "code",
   "execution_count": null,
   "id": "fdadc421",
   "metadata": {},
   "outputs": [],
   "source": [
    "observations_h5 = sorted(glob.glob(os.path.join(DATA_DIR, \"hdf5\", \"*.h5\")))"
   ]
  },
  {
   "cell_type": "code",
   "execution_count": null,
   "id": "2b6ea96b",
   "metadata": {},
   "outputs": [],
   "source": [
    "for i, file_in in enumerate(observations_h5):\n",
    "    file_out = os.path.join(DATA_DIR, \"preprocessed\", os.path.basename(file_in))\n",
    "\n",
    "    df = pd.read_hdf(file_in, key=\"data\")\n",
    "    df = df[[\"measid\", \"exposure\", \"mjd\", \"ra\", \"dec\", \"raerr\", \"decerr\", \"filter\", \"mag_auto\", \"magerr_auto\"]]\n",
    "    df.rename(\n",
    "        columns={\n",
    "            \"measid\" : \"obs_id\",\n",
    "            \"exposure\" : \"exposure_id\",\n",
    "            \"mjd\" : \"mjd_utc\",\n",
    "            \"ra\" : \"ra\",\n",
    "            \"dec\" : \"dec\",\n",
    "            \"raerr\" : \"ra_sigma\",\n",
    "            \"decerr\" : \"dec_sigma\",\n",
    "            \"mag_auto\" : \"mag\",\n",
    "            \"magerr_auto\" : \"mag_sigma\",\n",
    "            \"filter\" : \"filter\"\n",
    "        },\n",
    "        inplace=True\n",
    "    )\n",
    "    df.loc[:, \"ra_sigma\"] /= 3600.0\n",
    "    df.loc[:, \"dec_sigma\"] /= 3600.0\n",
    "    df.loc[df[\"obs_id\"].str[:3].isin([\"c4d\"]), \"observatory_code\"] = \"W84\"\n",
    "    df.loc[df[\"obs_id\"].str[:3].isin([\"ksb\"]), \"observatory_code\"] = \"V00\"\n",
    "    df.loc[df[\"obs_id\"].str[:3].isin([\"k4m\"]), \"observatory_code\"] = \"695\"\n",
    "    df.sort_values(\n",
    "        by=[\"mjd_utc\", \"observatory_code\"],\n",
    "        inplace=True,\n",
    "        ignore_index=True\n",
    "    )\n",
    "    df.to_hdf(\n",
    "        file_out,\n",
    "        key='data', \n",
    "        index=False,\n",
    "        mode='w',\n",
    "        format='table', \n",
    "    )\n",
    "    \n",
    "    if (i + 1) % 20 == 0:\n",
    "        print(f\"Processed {i + 1} observations files.\")"
   ]
  },
  {
   "cell_type": "code",
   "execution_count": null,
   "id": "4c4b991f",
   "metadata": {},
   "outputs": [],
   "source": []
  }
 ],
 "metadata": {
  "kernelspec": {
   "display_name": "thor (Python 3.9)",
   "language": "python",
   "name": "thor_py39"
  },
  "language_info": {
   "codemirror_mode": {
    "name": "ipython",
    "version": 3
   },
   "file_extension": ".py",
   "mimetype": "text/x-python",
   "name": "python",
   "nbconvert_exporter": "python",
   "pygments_lexer": "ipython3",
   "version": "3.9.7"
  }
 },
 "nbformat": 4,
 "nbformat_minor": 5
}
