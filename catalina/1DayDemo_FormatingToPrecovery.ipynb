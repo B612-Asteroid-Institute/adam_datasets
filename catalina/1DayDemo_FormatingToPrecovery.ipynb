{
 "cells": [
  {
   "cell_type": "markdown",
   "id": "30b3b44b",
   "metadata": {},
   "source": [
    "### Sample One day data"
   ]
  },
  {
   "cell_type": "code",
   "execution_count": 5,
   "id": "a5d6cb69",
   "metadata": {},
   "outputs": [],
   "source": [
    "from astropy.io import fits\n",
    "import os\n",
    "import pandas as pd\n",
    "import glob\n",
    "import numpy as np\n",
    "from astropy import units as u\n",
    "#import multiprocessing"
   ]
  },
  {
   "cell_type": "raw",
   "id": "9fb148fb",
   "metadata": {},
   "source": [
    "!wget -m -nd -A \"*.detf\" https://sbnarchive.psi.edu/pds4/surveys/gbo.ast.catalina.survey/data_derived/703/2023/23May03 -P /20230503"
   ]
  },
  {
   "cell_type": "code",
   "execution_count": 7,
   "id": "47a9df3c",
   "metadata": {},
   "outputs": [],
   "source": [
    "#Explore_Bintable notebook has a more detailed demostration of this funcntion\n",
    "def queryCatalina(filename):\n",
    "    \n",
    "    # open a FITS file / bintable\n",
    "    hdul = fits.open(filename)  \n",
    "    data = hdul[1].data \n",
    "    \n",
    "    #Create reference table for exposures.\n",
    "    # Risky, hardcoded to 4 exposures. Since it's hardcode on the fit table header\n",
    "    refer = {'dectection_offset':[0,1,2,3], \n",
    "            'exposure_mjd_mid':[hdul[1].header[\"MJDMID1\"], hdul[1].header[\"MJDMID2\"], hdul[1].header[\"MJDMID3\"], hdul[1].header[\"MJDMID4\"]],\n",
    "            'exposure_duration':[hdul[1].header[\"EXPOSE1\"], hdul[1].header[\"EXPOSE2\"], hdul[1].header[\"EXPOSE3\"], hdul[1].header[\"EXPOSE4\"]],\n",
    "             'mag_sigma':[hdul[1].header[\"VPHDEV_1\"],hdul[1].header[\"VPHDEV_2\"],hdul[1].header[\"VPHDEV_3\"],hdul[1].header[\"VPHDEV_4\"]]\n",
    "           }\n",
    "    refer_table = pd.DataFrame(refer)\n",
    "    refer_table['exposure_mjd_start'] = refer_table['exposure_mjd_mid'] - refer_table['exposure_duration'] /(3600*24)/2\n",
    "    \n",
    "    #Create table for observations:\n",
    "    obs = {'obs_index' : data[\"DETS_INDEX\"],\n",
    "           'dectection_offset' : (data[\"DETS_INDEX\"] - 1)% (hdul[1].header[\"NEXPOSE\"]), #Exposure num = 4, is not hardcode here \n",
    "            'mjd' : data[\"TIMESTAMP\"] - 2400000.5,\n",
    "            'ra' : data[\"RA\"],\n",
    "            'dec' : data[\"Dec\"],\n",
    "            'ra_sigma' : data[\"SIGMA\"] * u.arcsec.to(u.deg),\n",
    "            'dec_sigma' : data[\"SIGMA\"] * u.arcsec.to(u.deg),\n",
    "            'mag' : data[\"MAGNITUDE\"] } #'mag_sigma' : data[\"DELTAMU\"]\n",
    "    obs_table = pd.DataFrame(obs)\n",
    "    obs_table = obs_table.astype({\"obs_index\": str}, errors='raise') \n",
    "    obs_table[[\"ra\", \"dec\"]] = obs_table[[\"ra\", \"dec\"]].apply(pd.to_numeric)\n",
    "    \n",
    "    #JOIN two tables\n",
    "    final_table = pd.merge(obs_table,refer_table, on = 'dectection_offset', how='left') #probably will change to inner in future\n",
    "    #Add columns\n",
    "    final_table['exposure_id'] = file_name[0:-5]\n",
    "    final_table = final_table.astype({\"dectection_offset\": str}, errors='raise') \n",
    "    final_table['obs_id'] = final_table['exposure_id'] +\"_\" + final_table['obs_index'] +\"_\"+ final_table['dectection_offset']\n",
    "    final_table['observatory_code'] =  hdul[1].header[\"MPCCODE\"]\n",
    "    final_table['filter'] =  hdul[1].header[\"FILTER\"] \n",
    "    #Clear up\n",
    "    final_table = final_table.drop(columns=['obs_index'])\n",
    "    final_table = final_table.drop(columns=['dectection_offset'])\n",
    "    #Formating datatype\n",
    "    final_table = final_table.astype({\"exposure_id\": str}, errors='raise')\n",
    "    final_table = final_table.astype({\"obs_id\": str}, errors='raise') \n",
    "    final_table = final_table.astype({\"observatory_code\": str}, errors='raise') \n",
    "    final_table = final_table.astype({\"filter\": str}, errors='raise') \n",
    "    \n",
    "    return final_table\n",
    "    "
   ]
  },
  {
   "cell_type": "code",
   "execution_count": 13,
   "id": "637b9f10",
   "metadata": {},
   "outputs": [],
   "source": [
    "target_path = \"/epyc/projects/adam_datasets/Catalina/data/\"\n",
    "\n",
    "f = sorted(glob.glob(os.path.join(\"20230503/*.detf\")))\n",
    "dfs = []\n",
    "\n",
    "for i in f:\n",
    "    #print(i)\n",
    "    df = queryCatalina(i)\n",
    "    dfs.append(df)\n",
    "    \n",
    "obs = pd.concat(dfs,ignore_index = True)\n",
    "obs.to_csv(target_path + \"may.csv\",index = False)"
   ]
  },
  {
   "cell_type": "code",
   "execution_count": null,
   "id": "bbae7a0f",
   "metadata": {},
   "outputs": [],
   "source": []
  }
 ],
 "metadata": {
  "kernelspec": {
   "display_name": "Precovery (Python 3.9)",
   "language": "python",
   "name": "precovery_py39"
  },
  "language_info": {
   "codemirror_mode": {
    "name": "ipython",
    "version": 3
   },
   "file_extension": ".py",
   "mimetype": "text/x-python",
   "name": "python",
   "nbconvert_exporter": "python",
   "pygments_lexer": "ipython3",
   "version": "3.9.12"
  }
 },
 "nbformat": 4,
 "nbformat_minor": 5
}
