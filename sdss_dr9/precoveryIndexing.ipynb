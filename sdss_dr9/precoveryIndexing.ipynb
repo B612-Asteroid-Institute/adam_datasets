{
 "cells": [
  {
   "cell_type": "code",
   "execution_count": 1,
   "id": "f2ecc262-52b8-4d9d-911d-d3ee296df32d",
   "metadata": {},
   "outputs": [
    {
     "ename": "ModuleNotFoundError",
     "evalue": "No module named 'regex'",
     "output_type": "error",
     "traceback": [
      "\u001b[0;31m---------------------------------------------------------------------------\u001b[0m",
      "\u001b[0;31mModuleNotFoundError\u001b[0m                       Traceback (most recent call last)",
      "Input \u001b[0;32mIn [1]\u001b[0m, in \u001b[0;36m<cell line: 7>\u001b[0;34m()\u001b[0m\n\u001b[1;32m      4\u001b[0m \u001b[38;5;28;01mimport\u001b[39;00m \u001b[38;5;21;01mdatetime\u001b[39;00m\n\u001b[1;32m      5\u001b[0m \u001b[38;5;28;01mimport\u001b[39;00m \u001b[38;5;21;01mnumpy\u001b[39;00m \u001b[38;5;28;01mas\u001b[39;00m \u001b[38;5;21;01mnp\u001b[39;00m\n\u001b[0;32m----> 7\u001b[0m \u001b[38;5;28;01mfrom\u001b[39;00m \u001b[38;5;21;01mprecovery\u001b[39;00m\u001b[38;5;21;01m.\u001b[39;00m\u001b[38;5;21;01mconfig\u001b[39;00m \u001b[38;5;28;01mimport\u001b[39;00m DefaultConfig\n\u001b[1;32m      8\u001b[0m \u001b[38;5;28;01mfrom\u001b[39;00m \u001b[38;5;21;01mprecovery\u001b[39;00m\u001b[38;5;21;01m.\u001b[39;00m\u001b[38;5;21;01mprecovery_db\u001b[39;00m \u001b[38;5;28;01mimport\u001b[39;00m PrecoveryDatabase\n\u001b[1;32m      9\u001b[0m \u001b[38;5;28;01mimport\u001b[39;00m \u001b[38;5;21;01mprecovery\u001b[39;00m\n",
      "File \u001b[0;32m/nvme/users/ejgl/precovery/precovery/__init__.py:1\u001b[0m, in \u001b[0;36m<module>\u001b[0;34m\u001b[0m\n\u001b[0;32m----> 1\u001b[0m \u001b[38;5;28;01mfrom\u001b[39;00m \u001b[38;5;21;01m.\u001b[39;00m\u001b[38;5;21;01mmain\u001b[39;00m \u001b[38;5;28;01mimport\u001b[39;00m precover\n",
      "File \u001b[0;32m/nvme/users/ejgl/precovery/precovery/main.py:10\u001b[0m, in \u001b[0;36m<module>\u001b[0;34m\u001b[0m\n\u001b[1;32m      3\u001b[0m \u001b[38;5;28;01mfrom\u001b[39;00m \u001b[38;5;21;01mtyping\u001b[39;00m \u001b[38;5;28;01mimport\u001b[39;00m (\n\u001b[1;32m      4\u001b[0m     List,\n\u001b[1;32m      5\u001b[0m     Optional,\n\u001b[1;32m      6\u001b[0m     Union\n\u001b[1;32m      7\u001b[0m )\n\u001b[1;32m      9\u001b[0m \u001b[38;5;28;01mfrom\u001b[39;00m \u001b[38;5;21;01m.\u001b[39;00m\u001b[38;5;21;01morbit\u001b[39;00m \u001b[38;5;28;01mimport\u001b[39;00m Orbit\n\u001b[0;32m---> 10\u001b[0m \u001b[38;5;28;01mfrom\u001b[39;00m \u001b[38;5;21;01m.\u001b[39;00m\u001b[38;5;21;01mprecovery_db\u001b[39;00m \u001b[38;5;28;01mimport\u001b[39;00m (\n\u001b[1;32m     11\u001b[0m     PrecoveryCandidate,\n\u001b[1;32m     12\u001b[0m     FrameCandidate,\n\u001b[1;32m     13\u001b[0m     PrecoveryDatabase\n\u001b[1;32m     14\u001b[0m )\n\u001b[1;32m     16\u001b[0m \u001b[38;5;28;01mdef\u001b[39;00m \u001b[38;5;21m_candidates_to_dict\u001b[39m(candidates):\n\u001b[1;32m     17\u001b[0m     data \u001b[38;5;241m=\u001b[39m {\n\u001b[1;32m     18\u001b[0m         \u001b[38;5;124m'\u001b[39m\u001b[38;5;124mmjd_utc\u001b[39m\u001b[38;5;124m'\u001b[39m: [],\n\u001b[1;32m     19\u001b[0m         \u001b[38;5;124m'\u001b[39m\u001b[38;5;124mra_deg\u001b[39m\u001b[38;5;124m'\u001b[39m: [],\n\u001b[0;32m   (...)\u001b[0m\n\u001b[1;32m     37\u001b[0m         \u001b[38;5;124m'\u001b[39m\u001b[38;5;124mdataset_id\u001b[39m\u001b[38;5;124m'\u001b[39m : [],\n\u001b[1;32m     38\u001b[0m     }\n",
      "File \u001b[0;32m/nvme/users/ejgl/precovery/precovery/precovery_db.py:17\u001b[0m, in \u001b[0;36m<module>\u001b[0;34m\u001b[0m\n\u001b[1;32m      6\u001b[0m \u001b[38;5;28;01mfrom\u001b[39;00m \u001b[38;5;21;01mtyping\u001b[39;00m \u001b[38;5;28;01mimport\u001b[39;00m (\n\u001b[1;32m      7\u001b[0m     Iterable,\n\u001b[1;32m      8\u001b[0m     Iterator,\n\u001b[1;32m      9\u001b[0m     Optional,\n\u001b[1;32m     10\u001b[0m     Union\n\u001b[1;32m     11\u001b[0m )\n\u001b[1;32m     13\u001b[0m \u001b[38;5;28;01mfrom\u001b[39;00m \u001b[38;5;21;01m.\u001b[39;00m\u001b[38;5;21;01mconfig\u001b[39;00m \u001b[38;5;28;01mimport\u001b[39;00m (\n\u001b[1;32m     14\u001b[0m     Config,\n\u001b[1;32m     15\u001b[0m     DefaultConfig\n\u001b[1;32m     16\u001b[0m )\n\u001b[0;32m---> 17\u001b[0m \u001b[38;5;28;01mfrom\u001b[39;00m \u001b[38;5;21;01m.\u001b[39;00m\u001b[38;5;21;01mframe_db\u001b[39;00m \u001b[38;5;28;01mimport\u001b[39;00m (\n\u001b[1;32m     18\u001b[0m     FrameDB,\n\u001b[1;32m     19\u001b[0m     FrameIndex\n\u001b[1;32m     20\u001b[0m )\n\u001b[1;32m     21\u001b[0m \u001b[38;5;28;01mfrom\u001b[39;00m \u001b[38;5;21;01m.\u001b[39;00m\u001b[38;5;21;01mhealpix_geom\u001b[39;00m \u001b[38;5;28;01mimport\u001b[39;00m radec_to_healpixel\n\u001b[1;32m     22\u001b[0m \u001b[38;5;28;01mfrom\u001b[39;00m \u001b[38;5;21;01m.\u001b[39;00m\u001b[38;5;21;01morbit\u001b[39;00m \u001b[38;5;28;01mimport\u001b[39;00m (\n\u001b[1;32m     23\u001b[0m     Orbit,\n\u001b[1;32m     24\u001b[0m     PropagationIntegrator\n\u001b[1;32m     25\u001b[0m )\n",
      "File \u001b[0;32m/nvme/users/ejgl/precovery/precovery/frame_db.py:12\u001b[0m, in \u001b[0;36m<module>\u001b[0;34m\u001b[0m\n\u001b[1;32m     10\u001b[0m \u001b[38;5;28;01mimport\u001b[39;00m \u001b[38;5;21;01msqlalchemy\u001b[39;00m \u001b[38;5;28;01mas\u001b[39;00m \u001b[38;5;21;01msq\u001b[39;00m\n\u001b[1;32m     11\u001b[0m \u001b[38;5;28;01mfrom\u001b[39;00m \u001b[38;5;21;01mastropy\u001b[39;00m\u001b[38;5;21;01m.\u001b[39;00m\u001b[38;5;21;01mtime\u001b[39;00m \u001b[38;5;28;01mimport\u001b[39;00m Time\n\u001b[0;32m---> 12\u001b[0m \u001b[38;5;28;01mfrom\u001b[39;00m \u001b[38;5;21;01mregex\u001b[39;00m \u001b[38;5;28;01mimport\u001b[39;00m F\n\u001b[1;32m     13\u001b[0m \u001b[38;5;28;01mfrom\u001b[39;00m \u001b[38;5;21;01mrich\u001b[39;00m\u001b[38;5;21;01m.\u001b[39;00m\u001b[38;5;21;01mprogress\u001b[39;00m \u001b[38;5;28;01mimport\u001b[39;00m BarColumn, Progress, TimeElapsedColumn, TimeRemainingColumn\n\u001b[1;32m     14\u001b[0m \u001b[38;5;28;01mfrom\u001b[39;00m \u001b[38;5;21;01msqlalchemy\u001b[39;00m\u001b[38;5;21;01m.\u001b[39;00m\u001b[38;5;21;01msql\u001b[39;00m \u001b[38;5;28;01mimport\u001b[39;00m func \u001b[38;5;28;01mas\u001b[39;00m sqlfunc\n",
      "\u001b[0;31mModuleNotFoundError\u001b[0m: No module named 'regex'"
     ]
    }
   ],
   "source": [
    "import os\n",
    "import glob\n",
    "import argparse\n",
    "import datetime\n",
    "import numpy as np\n",
    "\n",
    "from precovery.config import DefaultConfig\n",
    "from precovery.precovery_db import PrecoveryDatabase\n",
    "import precovery"
   ]
  },
  {
   "cell_type": "code",
   "execution_count": 2,
   "id": "d30498c2-44a6-4edd-8cc9-880ab2b140b9",
   "metadata": {},
   "outputs": [],
   "source": [
    "out_dir = '/mnt/DE384D6B384D43AD/code/precovery_db/nsc_test_new_indexing_mk2' # folder to which the database will be written\n",
    "data_dir = '/mnt/DE384D6B384D43AD/code/precovery_db/nsc_datafiles/shorter'\n",
    "# healpix nside tesselation. See https://healpy.readthedocs.io/en/latest/\n",
    "# We use an nside of at least 256 operationally (this is about ~8000000 pixels on the sky)\n",
    "#  but 16 is faster\n",
    "nside = 16\n",
    "# Max file size in bytes. I set this low to test the file splitting.\n",
    "data_file_max_size = 1073741 \n",
    "dataset_name = \"NOIRLab Source Catalog (DR2)\"\n",
    "dataset_id= \"NSC_DR2\"\n",
    "reference_doi= \"https://doi.org/10.3847/1538-3881/abd6e1\"\n",
    "documentation_url= \"https://datalab.noirlab.edu/nscdr2/index.php\"\n",
    "sia_url= \"https://datalab.noirlab.edu/sia/nsc_dr2\""
   ]
  },
  {
   "cell_type": "code",
   "execution_count": 3,
   "id": "88e33925-a6d0-4691-9178-d6a89e70e309",
   "metadata": {},
   "outputs": [
    {
     "name": "stdout",
     "output_type": "stream",
     "text": [
      "Found 2 observation files in /mnt/DE384D6B384D43AD/code/precovery_db/nsc_datafiles/shorter:\n",
      "\tnsc_dr2_observations_2018-06-01_2018-07-02.h5\n",
      "\tnsc_dr2_observations_2018-07-02_2018-08-02.h5\n",
      "Processing (1/2): /mnt/DE384D6B384D43AD/code/precovery_db/nsc_datafiles/shorter/nsc_dr2_observations_2018-06-01_2018-07-02.h5\n"
     ]
    },
    {
     "data": {
      "application/vnd.jupyter.widget-view+json": {
       "model_id": "b7afbc87f8f14c10a3646d2d0d7a10ff",
       "version_major": 2,
       "version_minor": 0
      },
      "text/plain": [
       "Output()"
      ]
     },
     "metadata": {},
     "output_type": "display_data"
    },
    {
     "data": {
      "text/html": [
       "<pre style=\"white-space:pre;overflow-x:auto;line-height:normal;font-family:Menlo,'DejaVu Sans Mono',consolas,'Courier New',monospace\">loading observations... <span style=\"color: #729c1f; text-decoration-color: #729c1f\">━━━━━━━━━━━━━━━━━━━━━━━━━━━━━</span> <span style=\"color: #800080; text-decoration-color: #800080\">5598906 / 5598906  100%</span> <span style=\"color: #808000; text-decoration-color: #808000\">0:03:16</span> <span style=\"color: #008080; text-decoration-color: #008080\">0:00:00</span>\n",
       "</pre>\n"
      ],
      "text/plain": [
       "loading observations... \u001b[38;2;114;156;31m━━━━━━━━━━━━━━━━━━━━━━━━━━━━━\u001b[0m \u001b[35m5598906 / 5598906  100%\u001b[0m \u001b[33m0:03:16\u001b[0m \u001b[36m0:00:00\u001b[0m\n"
      ]
     },
     "metadata": {},
     "output_type": "display_data"
    },
    {
     "data": {
      "text/html": [
       "<pre style=\"white-space:pre;overflow-x:auto;line-height:normal;font-family:Menlo,'DejaVu Sans Mono',consolas,'Courier New',monospace\">\n",
       "</pre>\n"
      ],
      "text/plain": [
       "\n"
      ]
     },
     "metadata": {},
     "output_type": "display_data"
    },
    {
     "name": "stdout",
     "output_type": "stream",
     "text": [
      "Processing (2/2): /mnt/DE384D6B384D43AD/code/precovery_db/nsc_datafiles/shorter/nsc_dr2_observations_2018-07-02_2018-08-02.h5\n"
     ]
    },
    {
     "data": {
      "application/vnd.jupyter.widget-view+json": {
       "model_id": "db2f34df19b44cf5b2ed88df87c1119a",
       "version_major": 2,
       "version_minor": 0
      },
      "text/plain": [
       "Output()"
      ]
     },
     "metadata": {},
     "output_type": "display_data"
    },
    {
     "data": {
      "text/html": [
       "<pre style=\"white-space:pre;overflow-x:auto;line-height:normal;font-family:Menlo,'DejaVu Sans Mono',consolas,'Courier New',monospace\">loading observations... <span style=\"color: #729c1f; text-decoration-color: #729c1f\">━━━━━━━━━━━━━━━━━━━━━━━━━━━━━</span> <span style=\"color: #800080; text-decoration-color: #800080\">4289272 / 4289272  100%</span> <span style=\"color: #808000; text-decoration-color: #808000\">0:02:31</span> <span style=\"color: #008080; text-decoration-color: #008080\">0:00:00</span>\n",
       "</pre>\n"
      ],
      "text/plain": [
       "loading observations... \u001b[38;2;114;156;31m━━━━━━━━━━━━━━━━━━━━━━━━━━━━━\u001b[0m \u001b[35m4289272 / 4289272  100%\u001b[0m \u001b[33m0:02:31\u001b[0m \u001b[36m0:00:00\u001b[0m\n"
      ]
     },
     "metadata": {},
     "output_type": "display_data"
    },
    {
     "data": {
      "text/html": [
       "<pre style=\"white-space:pre;overflow-x:auto;line-height:normal;font-family:Menlo,'DejaVu Sans Mono',consolas,'Courier New',monospace\">\n",
       "</pre>\n"
      ],
      "text/plain": [
       "\n"
      ]
     },
     "metadata": {},
     "output_type": "display_data"
    },
    {
     "name": "stdout",
     "output_type": "stream",
     "text": [
      "All files indexed in 0:05:48.730835.\n"
     ]
    }
   ],
   "source": [
    "files = sorted(glob.glob(os.path.join(data_dir, \"*.h5\")))\n",
    "\n",
    "print(f\"Found {len(files)} observation files in {data_dir}:\")\n",
    "for f in files:\n",
    "    print(f\"\\t{os.path.basename(f)}\")\n",
    "\n",
    "# for connecting to an existing database\n",
    "# db = PrecoveryDatabase.from_dir(out_dir)\n",
    "\n",
    "\n",
    "db = PrecoveryDatabase.create(\n",
    "    out_dir,\n",
    "    nside=nside,\n",
    "    data_file_max_size=data_file_max_size\n",
    ")\n",
    "\n",
    "status_file = os.path.join(out_dir, \"files_indexed.txt\")\n",
    "if not os.path.exists(status_file):\n",
    "    read_files = []\n",
    "    np.savetxt(status_file, read_files, fmt=\"%s\", delimiter='\\n')\n",
    "else:\n",
    "    read_files = np.loadtxt(status_file, dtype=str, delimiter='\\n', ndmin=1).tolist()\n",
    "\n",
    "time_start = datetime.datetime.now()\n",
    "for i, observations_file in enumerate(files):\n",
    "    print(f\"Processing ({i + 1}/{len(files)}): {observations_file}\")\n",
    "    if observations_file not in set(read_files):\n",
    "        db.frames.load_hdf5(\n",
    "            observations_file, \n",
    "            dataset_id,\n",
    "            name=dataset_name,\n",
    "            reference_doi=reference_doi,\n",
    "            documentation_url=documentation_url,\n",
    "            sia_url=sia_url\n",
    "        )\n",
    "        read_files.append(observations_file)\n",
    "        np.savetxt(status_file, read_files, fmt=\"%s\", delimiter='\\n')\n",
    "    else:\n",
    "        print(f\"File has been indexed previously.\")\n",
    "\n",
    "time_end = datetime.datetime.now()\n",
    "duration = (time_end - time_start)\n",
    "print(f\"All files indexed in {duration}.\")"
   ]
  },
  {
   "cell_type": "code",
   "execution_count": 5,
   "id": "ccd006d9-bae6-4156-a12c-77862fe338de",
   "metadata": {},
   "outputs": [
    {
     "data": {
      "text/plain": [
       "{}"
      ]
     },
     "execution_count": 5,
     "metadata": {},
     "output_type": "execute_result"
    }
   ],
   "source": [
    "db.frames.data_files"
   ]
  },
  {
   "cell_type": "code",
   "execution_count": null,
   "id": "6efe2729-971e-4d35-8c9f-6a9f4b603532",
   "metadata": {},
   "outputs": [],
   "source": []
  }
 ],
 "metadata": {
  "kernelspec": {
   "display_name": "precovery_py39",
   "language": "python",
   "name": "precovery_py39"
  },
  "language_info": {
   "codemirror_mode": {
    "name": "ipython",
    "version": 3
   },
   "file_extension": ".py",
   "mimetype": "text/x-python",
   "name": "python",
   "nbconvert_exporter": "python",
   "pygments_lexer": "ipython3",
   "version": "3.9.12"
  }
 },
 "nbformat": 4,
 "nbformat_minor": 5
}
