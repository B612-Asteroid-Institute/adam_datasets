{
 "cells": [
  {
   "cell_type": "code",
   "execution_count": 1,
   "id": "82dc6039",
   "metadata": {},
   "outputs": [
    {
     "name": "stderr",
     "output_type": "stream",
     "text": [
      "\n",
      "WARNING: version mismatch between CFITSIO header (v4.000999999999999) and linked library (v4.01).\n",
      "\n",
      "\n",
      "WARNING: version mismatch between CFITSIO header (v4.000999999999999) and linked library (v4.01).\n",
      "\n",
      "\n",
      "WARNING: version mismatch between CFITSIO header (v4.000999999999999) and linked library (v4.01).\n",
      "\n"
     ]
    },
    {
     "data": {
      "text/plain": [
       "[<precovery.orbit.Ephemeris at 0x7fb4340ef730>]"
      ]
     },
     "execution_count": 1,
     "metadata": {},
     "output_type": "execute_result"
    }
   ],
   "source": [
    "from precovery.orbit import Orbit, EpochTimescale\n",
    "from precovery import precover\n",
    "import pandas as pd\n",
    "\n",
    "orbit = Orbit.keplerian(\n",
    "    2202930,\n",
    "    2.719500955919493,\n",
    "    0.1298610598232667,\n",
    "    4.562907166251742,\n",
    "    346.1459277333923,\n",
    "    7.61979564713161,\n",
    "    118.5024332609956,\n",
    "    59260.79114232246,\n",
    "    EpochTimescale.TT, #data is in scale TDB (barycentric dynamical time)\n",
    "    16.82,\n",
    "    .15 #photometric slope parameter - what to put in?\n",
    ")\n",
    "\n",
    "orbit.compute_ephemeris('645', [51075.299190])"
   ]
  },
  {
   "cell_type": "code",
   "execution_count": 2,
   "id": "3ff27cc0",
   "metadata": {},
   "outputs": [],
   "source": [
    "DB_DIR = \"/astro/store/epyc3/data3/adam_datasets/sdss_dr9_all/precovery_results_test/\"\n",
    "results = precover(orbit, DB_DIR, tolerance=1/3600)"
   ]
  },
  {
   "cell_type": "code",
   "execution_count": 3,
   "id": "8b467ab6",
   "metadata": {},
   "outputs": [
    {
     "data": {
      "text/html": [
       "<div>\n",
       "<style scoped>\n",
       "    .dataframe tbody tr th:only-of-type {\n",
       "        vertical-align: middle;\n",
       "    }\n",
       "\n",
       "    .dataframe tbody tr th {\n",
       "        vertical-align: top;\n",
       "    }\n",
       "\n",
       "    .dataframe thead th {\n",
       "        text-align: right;\n",
       "    }\n",
       "</style>\n",
       "<table border=\"1\" class=\"dataframe\">\n",
       "  <thead>\n",
       "    <tr style=\"text-align: right;\">\n",
       "      <th></th>\n",
       "      <th>mjd_utc</th>\n",
       "      <th>ra_deg</th>\n",
       "      <th>dec_deg</th>\n",
       "      <th>ra_sigma_arcsec</th>\n",
       "      <th>dec_sigma_arcsec</th>\n",
       "      <th>mag</th>\n",
       "      <th>mag_sigma</th>\n",
       "      <th>filter</th>\n",
       "      <th>obscode</th>\n",
       "      <th>exposure_id</th>\n",
       "      <th>observation_id</th>\n",
       "      <th>healpix_id</th>\n",
       "      <th>pred_ra_deg</th>\n",
       "      <th>pred_dec_deg</th>\n",
       "      <th>pred_vra_degpday</th>\n",
       "      <th>pred_vdec_degpday</th>\n",
       "      <th>delta_ra_arcsec</th>\n",
       "      <th>delta_dec_arcsec</th>\n",
       "      <th>distance_arcsec</th>\n",
       "      <th>dataset_id</th>\n",
       "    </tr>\n",
       "  </thead>\n",
       "  <tbody>\n",
       "  </tbody>\n",
       "</table>\n",
       "</div>"
      ],
      "text/plain": [
       "Empty DataFrame\n",
       "Columns: [mjd_utc, ra_deg, dec_deg, ra_sigma_arcsec, dec_sigma_arcsec, mag, mag_sigma, filter, obscode, exposure_id, observation_id, healpix_id, pred_ra_deg, pred_dec_deg, pred_vra_degpday, pred_vdec_degpday, delta_ra_arcsec, delta_dec_arcsec, distance_arcsec, dataset_id]\n",
       "Index: []"
      ]
     },
     "execution_count": 3,
     "metadata": {},
     "output_type": "execute_result"
    }
   ],
   "source": [
    "results"
   ]
  },
  {
   "cell_type": "code",
   "execution_count": 4,
   "id": "3e5dedec",
   "metadata": {},
   "outputs": [
    {
     "data": {
      "text/html": [
       "<div>\n",
       "<style scoped>\n",
       "    .dataframe tbody tr th:only-of-type {\n",
       "        vertical-align: middle;\n",
       "    }\n",
       "\n",
       "    .dataframe tbody tr th {\n",
       "        vertical-align: top;\n",
       "    }\n",
       "\n",
       "    .dataframe thead th {\n",
       "        text-align: right;\n",
       "    }\n",
       "</style>\n",
       "<table border=\"1\" class=\"dataframe\">\n",
       "  <thead>\n",
       "    <tr style=\"text-align: right;\">\n",
       "      <th></th>\n",
       "      <th>obj_id</th>\n",
       "      <th>mjd_tdb</th>\n",
       "      <th>x</th>\n",
       "      <th>y</th>\n",
       "      <th>z</th>\n",
       "      <th>vx</th>\n",
       "      <th>vy</th>\n",
       "      <th>vz</th>\n",
       "      <th>a</th>\n",
       "      <th>e</th>\n",
       "      <th>i</th>\n",
       "      <th>raan</th>\n",
       "      <th>ap</th>\n",
       "      <th>M</th>\n",
       "      <th>q</th>\n",
       "      <th>tp</th>\n",
       "    </tr>\n",
       "  </thead>\n",
       "  <tbody>\n",
       "    <tr>\n",
       "      <th>0</th>\n",
       "      <td>458508 (2011 CM42)</td>\n",
       "      <td>57863.0</td>\n",
       "      <td>-2.339424</td>\n",
       "      <td>-0.365846</td>\n",
       "      <td>-1.009395</td>\n",
       "      <td>0.002708</td>\n",
       "      <td>-0.010998</td>\n",
       "      <td>-0.002997</td>\n",
       "      <td>3.194038</td>\n",
       "      <td>0.195495</td>\n",
       "      <td>27.595175</td>\n",
       "      <td>314.242739</td>\n",
       "      <td>229.538147</td>\n",
       "      <td>5.485024</td>\n",
       "      <td>2.569619</td>\n",
       "      <td>57831.232390</td>\n",
       "    </tr>\n",
       "    <tr>\n",
       "      <th>1</th>\n",
       "      <td>(2014 HD196)</td>\n",
       "      <td>57863.0</td>\n",
       "      <td>0.854392</td>\n",
       "      <td>1.627795</td>\n",
       "      <td>-0.286729</td>\n",
       "      <td>-0.009789</td>\n",
       "      <td>0.005099</td>\n",
       "      <td>-0.002425</td>\n",
       "      <td>1.554322</td>\n",
       "      <td>0.199250</td>\n",
       "      <td>15.099758</td>\n",
       "      <td>206.992667</td>\n",
       "      <td>43.213512</td>\n",
       "      <td>169.819511</td>\n",
       "      <td>1.244624</td>\n",
       "      <td>57529.116620</td>\n",
       "    </tr>\n",
       "    <tr>\n",
       "      <th>2</th>\n",
       "      <td>Bernardinelli-Bernstein (C/2014 UN271)</td>\n",
       "      <td>57863.0</td>\n",
       "      <td>17.404497</td>\n",
       "      <td>1.224402</td>\n",
       "      <td>-18.947452</td>\n",
       "      <td>-0.004693</td>\n",
       "      <td>-0.000779</td>\n",
       "      <td>0.000577</td>\n",
       "      <td>22294.476189</td>\n",
       "      <td>0.999509</td>\n",
       "      <td>95.566727</td>\n",
       "      <td>190.099879</td>\n",
       "      <td>326.269834</td>\n",
       "      <td>359.998512</td>\n",
       "      <td>10.953183</td>\n",
       "      <td>62890.127734</td>\n",
       "    </tr>\n",
       "    <tr>\n",
       "      <th>3</th>\n",
       "      <td>Cameron-ISON (P/2015 PD229)</td>\n",
       "      <td>57863.0</td>\n",
       "      <td>4.507715</td>\n",
       "      <td>3.165416</td>\n",
       "      <td>0.154210</td>\n",
       "      <td>-0.002971</td>\n",
       "      <td>0.007569</td>\n",
       "      <td>0.000225</td>\n",
       "      <td>7.175951</td>\n",
       "      <td>0.326845</td>\n",
       "      <td>2.026003</td>\n",
       "      <td>342.758422</td>\n",
       "      <td>352.284123</td>\n",
       "      <td>31.566327</td>\n",
       "      <td>4.830524</td>\n",
       "      <td>57247.342447</td>\n",
       "    </tr>\n",
       "  </tbody>\n",
       "</table>\n",
       "</div>"
      ],
      "text/plain": [
       "                                   obj_id  mjd_tdb          x         y  \\\n",
       "0                      458508 (2011 CM42)  57863.0  -2.339424 -0.365846   \n",
       "1                            (2014 HD196)  57863.0   0.854392  1.627795   \n",
       "2  Bernardinelli-Bernstein (C/2014 UN271)  57863.0  17.404497  1.224402   \n",
       "3             Cameron-ISON (P/2015 PD229)  57863.0   4.507715  3.165416   \n",
       "\n",
       "           z        vx        vy        vz             a         e          i  \\\n",
       "0  -1.009395  0.002708 -0.010998 -0.002997      3.194038  0.195495  27.595175   \n",
       "1  -0.286729 -0.009789  0.005099 -0.002425      1.554322  0.199250  15.099758   \n",
       "2 -18.947452 -0.004693 -0.000779  0.000577  22294.476189  0.999509  95.566727   \n",
       "3   0.154210 -0.002971  0.007569  0.000225      7.175951  0.326845   2.026003   \n",
       "\n",
       "         raan          ap           M          q            tp  \n",
       "0  314.242739  229.538147    5.485024   2.569619  57831.232390  \n",
       "1  206.992667   43.213512  169.819511   1.244624  57529.116620  \n",
       "2  190.099879  326.269834  359.998512  10.953183  62890.127734  \n",
       "3  342.758422  352.284123   31.566327   4.830524  57247.342447  "
      ]
     },
     "execution_count": 4,
     "metadata": {},
     "output_type": "execute_result"
    }
   ],
   "source": [
    "test_orbits = pd.read_csv('sample_objects.csv')\n",
    "test_orbits"
   ]
  },
  {
   "cell_type": "code",
   "execution_count": 6,
   "id": "f7faa78b",
   "metadata": {},
   "outputs": [],
   "source": [
    "CM42 = Orbit.cartesian(\n",
    "    42,\n",
    "    test_orbits['x'][0],\n",
    "    test_orbits['y'][0],\n",
    "    test_orbits['z'][0],\n",
    "    test_orbits['vx'][0],\n",
    "    test_orbits['vy'][0],\n",
    "    test_orbits['vz'][0],\n",
    "    test_orbits['mjd_tdb'][0],\n",
    "    EpochTimescale.TT,\n",
    "    20,\n",
    "    .15\n",
    ")"
   ]
  },
  {
   "cell_type": "code",
   "execution_count": 7,
   "id": "75afd0a9",
   "metadata": {},
   "outputs": [],
   "source": [
    "results_2 = precover(CM42, DB_DIR, tolerance=1/3600)"
   ]
  },
  {
   "cell_type": "code",
   "execution_count": 8,
   "id": "b9c80976",
   "metadata": {},
   "outputs": [
    {
     "data": {
      "text/html": [
       "<div>\n",
       "<style scoped>\n",
       "    .dataframe tbody tr th:only-of-type {\n",
       "        vertical-align: middle;\n",
       "    }\n",
       "\n",
       "    .dataframe tbody tr th {\n",
       "        vertical-align: top;\n",
       "    }\n",
       "\n",
       "    .dataframe thead th {\n",
       "        text-align: right;\n",
       "    }\n",
       "</style>\n",
       "<table border=\"1\" class=\"dataframe\">\n",
       "  <thead>\n",
       "    <tr style=\"text-align: right;\">\n",
       "      <th></th>\n",
       "      <th>mjd_utc</th>\n",
       "      <th>ra_deg</th>\n",
       "      <th>dec_deg</th>\n",
       "      <th>ra_sigma_arcsec</th>\n",
       "      <th>dec_sigma_arcsec</th>\n",
       "      <th>mag</th>\n",
       "      <th>mag_sigma</th>\n",
       "      <th>filter</th>\n",
       "      <th>obscode</th>\n",
       "      <th>exposure_id</th>\n",
       "      <th>observation_id</th>\n",
       "      <th>healpix_id</th>\n",
       "      <th>pred_ra_deg</th>\n",
       "      <th>pred_dec_deg</th>\n",
       "      <th>pred_vra_degpday</th>\n",
       "      <th>pred_vdec_degpday</th>\n",
       "      <th>delta_ra_arcsec</th>\n",
       "      <th>delta_dec_arcsec</th>\n",
       "      <th>distance_arcsec</th>\n",
       "      <th>dataset_id</th>\n",
       "    </tr>\n",
       "  </thead>\n",
       "  <tbody>\n",
       "  </tbody>\n",
       "</table>\n",
       "</div>"
      ],
      "text/plain": [
       "Empty DataFrame\n",
       "Columns: [mjd_utc, ra_deg, dec_deg, ra_sigma_arcsec, dec_sigma_arcsec, mag, mag_sigma, filter, obscode, exposure_id, observation_id, healpix_id, pred_ra_deg, pred_dec_deg, pred_vra_degpday, pred_vdec_degpday, delta_ra_arcsec, delta_dec_arcsec, distance_arcsec, dataset_id]\n",
       "Index: []"
      ]
     },
     "execution_count": 8,
     "metadata": {},
     "output_type": "execute_result"
    }
   ],
   "source": [
    "results_2"
   ]
  },
  {
   "cell_type": "code",
   "execution_count": 9,
   "id": "391fd634",
   "metadata": {},
   "outputs": [],
   "source": [
    "HD196 = Orbit.keplerian(\n",
    "    196,\n",
    "    test_orbits['a'][1],\n",
    "    test_orbits['e'][1],\n",
    "    test_orbits['i'][1],\n",
    "    test_orbits['raan'][1],\n",
    "    test_orbits['ap'][1],\n",
    "    test_orbits['M'][1],\n",
    "    test_orbits['mjd_tdb'][1],\n",
    "    EpochTimescale.TT,\n",
    "    20,\n",
    "    .15\n",
    ")"
   ]
  },
  {
   "cell_type": "code",
   "execution_count": 10,
   "id": "5f5fbd03",
   "metadata": {},
   "outputs": [],
   "source": [
    "results_3 = precover(HD196, DB_DIR, tolerance=1/3600)"
   ]
  },
  {
   "cell_type": "code",
   "execution_count": 11,
   "id": "3564b017",
   "metadata": {},
   "outputs": [
    {
     "data": {
      "text/html": [
       "<div>\n",
       "<style scoped>\n",
       "    .dataframe tbody tr th:only-of-type {\n",
       "        vertical-align: middle;\n",
       "    }\n",
       "\n",
       "    .dataframe tbody tr th {\n",
       "        vertical-align: top;\n",
       "    }\n",
       "\n",
       "    .dataframe thead th {\n",
       "        text-align: right;\n",
       "    }\n",
       "</style>\n",
       "<table border=\"1\" class=\"dataframe\">\n",
       "  <thead>\n",
       "    <tr style=\"text-align: right;\">\n",
       "      <th></th>\n",
       "      <th>mjd_utc</th>\n",
       "      <th>ra_deg</th>\n",
       "      <th>dec_deg</th>\n",
       "      <th>ra_sigma_arcsec</th>\n",
       "      <th>dec_sigma_arcsec</th>\n",
       "      <th>mag</th>\n",
       "      <th>mag_sigma</th>\n",
       "      <th>filter</th>\n",
       "      <th>obscode</th>\n",
       "      <th>exposure_id</th>\n",
       "      <th>observation_id</th>\n",
       "      <th>healpix_id</th>\n",
       "      <th>pred_ra_deg</th>\n",
       "      <th>pred_dec_deg</th>\n",
       "      <th>pred_vra_degpday</th>\n",
       "      <th>pred_vdec_degpday</th>\n",
       "      <th>delta_ra_arcsec</th>\n",
       "      <th>delta_dec_arcsec</th>\n",
       "      <th>distance_arcsec</th>\n",
       "      <th>dataset_id</th>\n",
       "    </tr>\n",
       "  </thead>\n",
       "  <tbody>\n",
       "  </tbody>\n",
       "</table>\n",
       "</div>"
      ],
      "text/plain": [
       "Empty DataFrame\n",
       "Columns: [mjd_utc, ra_deg, dec_deg, ra_sigma_arcsec, dec_sigma_arcsec, mag, mag_sigma, filter, obscode, exposure_id, observation_id, healpix_id, pred_ra_deg, pred_dec_deg, pred_vra_degpday, pred_vdec_degpday, delta_ra_arcsec, delta_dec_arcsec, distance_arcsec, dataset_id]\n",
       "Index: []"
      ]
     },
     "execution_count": 11,
     "metadata": {},
     "output_type": "execute_result"
    }
   ],
   "source": [
    "results_3"
   ]
  },
  {
   "cell_type": "code",
   "execution_count": 12,
   "id": "0c53a78a",
   "metadata": {},
   "outputs": [],
   "source": [
    "BB = Orbit.cartesian(\n",
    "    271,\n",
    "    test_orbits['x'][2],\n",
    "    test_orbits['y'][2],\n",
    "    test_orbits['z'][2],\n",
    "    test_orbits['vx'][2],\n",
    "    test_orbits['vy'][2],\n",
    "    test_orbits['vz'][2],\n",
    "    test_orbits['mjd_tdb'][2],\n",
    "    EpochTimescale.TT,\n",
    "    20,\n",
    "    .15\n",
    ")"
   ]
  },
  {
   "cell_type": "code",
   "execution_count": 13,
   "id": "0b97e801",
   "metadata": {},
   "outputs": [],
   "source": [
    "results_4 = precover(BB, DB_DIR, tolerance=1/3600)"
   ]
  },
  {
   "cell_type": "code",
   "execution_count": 22,
   "id": "9336709c",
   "metadata": {},
   "outputs": [
    {
     "data": {
      "text/html": [
       "<div>\n",
       "<style scoped>\n",
       "    .dataframe tbody tr th:only-of-type {\n",
       "        vertical-align: middle;\n",
       "    }\n",
       "\n",
       "    .dataframe tbody tr th {\n",
       "        vertical-align: top;\n",
       "    }\n",
       "\n",
       "    .dataframe thead th {\n",
       "        text-align: right;\n",
       "    }\n",
       "</style>\n",
       "<table border=\"1\" class=\"dataframe\">\n",
       "  <thead>\n",
       "    <tr style=\"text-align: right;\">\n",
       "      <th></th>\n",
       "      <th>mjd_utc</th>\n",
       "      <th>ra_deg</th>\n",
       "      <th>dec_deg</th>\n",
       "      <th>ra_sigma_arcsec</th>\n",
       "      <th>dec_sigma_arcsec</th>\n",
       "      <th>mag</th>\n",
       "      <th>mag_sigma</th>\n",
       "      <th>filter</th>\n",
       "      <th>obscode</th>\n",
       "      <th>exposure_id</th>\n",
       "      <th>observation_id</th>\n",
       "      <th>healpix_id</th>\n",
       "      <th>pred_ra_deg</th>\n",
       "      <th>pred_dec_deg</th>\n",
       "      <th>pred_vra_degpday</th>\n",
       "      <th>pred_vdec_degpday</th>\n",
       "      <th>delta_ra_arcsec</th>\n",
       "      <th>delta_dec_arcsec</th>\n",
       "      <th>distance_arcsec</th>\n",
       "      <th>dataset_id</th>\n",
       "    </tr>\n",
       "  </thead>\n",
       "  <tbody>\n",
       "  </tbody>\n",
       "</table>\n",
       "</div>"
      ],
      "text/plain": [
       "Empty DataFrame\n",
       "Columns: [mjd_utc, ra_deg, dec_deg, ra_sigma_arcsec, dec_sigma_arcsec, mag, mag_sigma, filter, obscode, exposure_id, observation_id, healpix_id, pred_ra_deg, pred_dec_deg, pred_vra_degpday, pred_vdec_degpday, delta_ra_arcsec, delta_dec_arcsec, distance_arcsec, dataset_id]\n",
       "Index: []"
      ]
     },
     "execution_count": 22,
     "metadata": {},
     "output_type": "execute_result"
    }
   ],
   "source": [
    "results_4"
   ]
  },
  {
   "cell_type": "code",
   "execution_count": 20,
   "id": "cb6d3a11",
   "metadata": {},
   "outputs": [],
   "source": [
    "CameronISON = Orbit.cartesian(\n",
    "    2015,\n",
    "    test_orbits['x'][3],\n",
    "    test_orbits['y'][3],\n",
    "    test_orbits['z'][3],\n",
    "    test_orbits['vx'][3],\n",
    "    test_orbits['vy'][3],\n",
    "    test_orbits['vz'][3],\n",
    "    test_orbits['mjd_tdb'][3],\n",
    "    EpochTimescale.TT,\n",
    "    20,\n",
    "    .15\n",
    ")"
   ]
  },
  {
   "cell_type": "code",
   "execution_count": 21,
   "id": "fe19e26f",
   "metadata": {},
   "outputs": [
    {
     "name": "stderr",
     "output_type": "stream",
     "text": [
      "***ERROR***  4 Nov 2022 18:36:34UTC (Time / new) TRACE BACK 10\n"
     ]
    },
    {
     "ename": "AssertionError",
     "evalue": "There was an issue with the pyoorb orbit propagation",
     "output_type": "error",
     "traceback": [
      "\u001b[0;31m---------------------------------------------------------------------------\u001b[0m",
      "\u001b[0;31mAssertionError\u001b[0m                            Traceback (most recent call last)",
      "Input \u001b[0;32mIn [21]\u001b[0m, in \u001b[0;36m<cell line: 1>\u001b[0;34m()\u001b[0m\n\u001b[0;32m----> 1\u001b[0m results_5 \u001b[38;5;241m=\u001b[39m \u001b[43mprecover\u001b[49m\u001b[43m(\u001b[49m\u001b[43mCameronISON\u001b[49m\u001b[43m,\u001b[49m\u001b[43m \u001b[49m\u001b[43mDB_DIR\u001b[49m\u001b[43m,\u001b[49m\u001b[43m \u001b[49m\u001b[43mtolerance\u001b[49m\u001b[38;5;241;43m=\u001b[39;49m\u001b[38;5;241;43m1\u001b[39;49m\u001b[38;5;241;43m/\u001b[39;49m\u001b[38;5;241;43m3600\u001b[39;49m\u001b[43m)\u001b[49m\n",
      "File \u001b[0;32m/nvme/users/ejgl/precovery/precovery/main.py:103\u001b[0m, in \u001b[0;36mprecover\u001b[0;34m(orbit, database_directory, tolerance, max_matches, start_mjd, end_mjd, window_size, include_frame_candidates)\u001b[0m\n\u001b[1;32m     58\u001b[0m \u001b[38;5;124;03m\"\"\"\u001b[39;00m\n\u001b[1;32m     59\u001b[0m \u001b[38;5;124;03mConnect to database directory and run precovery for the input orbit.\u001b[39;00m\n\u001b[1;32m     60\u001b[0m \n\u001b[0;32m   (...)\u001b[0m\n\u001b[1;32m     95\u001b[0m \u001b[38;5;124;03m    found within the angular tolerance.\u001b[39;00m\n\u001b[1;32m     96\u001b[0m \u001b[38;5;124;03m\"\"\"\u001b[39;00m\n\u001b[1;32m     97\u001b[0m precovery_db \u001b[38;5;241m=\u001b[39m PrecoveryDatabase\u001b[38;5;241m.\u001b[39mfrom_dir(\n\u001b[1;32m     98\u001b[0m     database_directory,\n\u001b[1;32m     99\u001b[0m     create\u001b[38;5;241m=\u001b[39m\u001b[38;5;28;01mFalse\u001b[39;00m,\n\u001b[1;32m    100\u001b[0m     mode\u001b[38;5;241m=\u001b[39m\u001b[38;5;124m\"\u001b[39m\u001b[38;5;124mr\u001b[39m\u001b[38;5;124m\"\u001b[39m\n\u001b[1;32m    101\u001b[0m )\n\u001b[0;32m--> 103\u001b[0m candidates \u001b[38;5;241m=\u001b[39m [\n\u001b[1;32m    104\u001b[0m     c \u001b[38;5;28;01mfor\u001b[39;00m c \u001b[38;5;129;01min\u001b[39;00m precovery_db\u001b[38;5;241m.\u001b[39mprecover(\n\u001b[1;32m    105\u001b[0m         orbit,\n\u001b[1;32m    106\u001b[0m         tolerance\u001b[38;5;241m=\u001b[39mtolerance,\n\u001b[1;32m    107\u001b[0m         max_matches\u001b[38;5;241m=\u001b[39mmax_matches,\n\u001b[1;32m    108\u001b[0m         start_mjd\u001b[38;5;241m=\u001b[39mstart_mjd,\n\u001b[1;32m    109\u001b[0m         end_mjd\u001b[38;5;241m=\u001b[39mend_mjd,\n\u001b[1;32m    110\u001b[0m         window_size\u001b[38;5;241m=\u001b[39mwindow_size,\n\u001b[1;32m    111\u001b[0m         include_frame_candidates\u001b[38;5;241m=\u001b[39minclude_frame_candidates\n\u001b[1;32m    112\u001b[0m     )\n\u001b[1;32m    113\u001b[0m ]\n\u001b[1;32m    115\u001b[0m df \u001b[38;5;241m=\u001b[39m pd\u001b[38;5;241m.\u001b[39mDataFrame(_candidates_to_dict(candidates))\n\u001b[1;32m    116\u001b[0m df\u001b[38;5;241m.\u001b[39mloc[:, \u001b[38;5;124m\"\u001b[39m\u001b[38;5;124mobservation_id\u001b[39m\u001b[38;5;124m\"\u001b[39m] \u001b[38;5;241m=\u001b[39m df\u001b[38;5;241m.\u001b[39mloc[:, \u001b[38;5;124m\"\u001b[39m\u001b[38;5;124mobservation_id\u001b[39m\u001b[38;5;124m\"\u001b[39m]\u001b[38;5;241m.\u001b[39mastype(\u001b[38;5;28mstr\u001b[39m)\n",
      "File \u001b[0;32m/nvme/users/ejgl/precovery/precovery/main.py:103\u001b[0m, in \u001b[0;36m<listcomp>\u001b[0;34m(.0)\u001b[0m\n\u001b[1;32m     58\u001b[0m \u001b[38;5;124;03m\"\"\"\u001b[39;00m\n\u001b[1;32m     59\u001b[0m \u001b[38;5;124;03mConnect to database directory and run precovery for the input orbit.\u001b[39;00m\n\u001b[1;32m     60\u001b[0m \n\u001b[0;32m   (...)\u001b[0m\n\u001b[1;32m     95\u001b[0m \u001b[38;5;124;03m    found within the angular tolerance.\u001b[39;00m\n\u001b[1;32m     96\u001b[0m \u001b[38;5;124;03m\"\"\"\u001b[39;00m\n\u001b[1;32m     97\u001b[0m precovery_db \u001b[38;5;241m=\u001b[39m PrecoveryDatabase\u001b[38;5;241m.\u001b[39mfrom_dir(\n\u001b[1;32m     98\u001b[0m     database_directory,\n\u001b[1;32m     99\u001b[0m     create\u001b[38;5;241m=\u001b[39m\u001b[38;5;28;01mFalse\u001b[39;00m,\n\u001b[1;32m    100\u001b[0m     mode\u001b[38;5;241m=\u001b[39m\u001b[38;5;124m\"\u001b[39m\u001b[38;5;124mr\u001b[39m\u001b[38;5;124m\"\u001b[39m\n\u001b[1;32m    101\u001b[0m )\n\u001b[0;32m--> 103\u001b[0m candidates \u001b[38;5;241m=\u001b[39m [\n\u001b[1;32m    104\u001b[0m     c \u001b[38;5;28;01mfor\u001b[39;00m c \u001b[38;5;129;01min\u001b[39;00m precovery_db\u001b[38;5;241m.\u001b[39mprecover(\n\u001b[1;32m    105\u001b[0m         orbit,\n\u001b[1;32m    106\u001b[0m         tolerance\u001b[38;5;241m=\u001b[39mtolerance,\n\u001b[1;32m    107\u001b[0m         max_matches\u001b[38;5;241m=\u001b[39mmax_matches,\n\u001b[1;32m    108\u001b[0m         start_mjd\u001b[38;5;241m=\u001b[39mstart_mjd,\n\u001b[1;32m    109\u001b[0m         end_mjd\u001b[38;5;241m=\u001b[39mend_mjd,\n\u001b[1;32m    110\u001b[0m         window_size\u001b[38;5;241m=\u001b[39mwindow_size,\n\u001b[1;32m    111\u001b[0m         include_frame_candidates\u001b[38;5;241m=\u001b[39minclude_frame_candidates\n\u001b[1;32m    112\u001b[0m     )\n\u001b[1;32m    113\u001b[0m ]\n\u001b[1;32m    115\u001b[0m df \u001b[38;5;241m=\u001b[39m pd\u001b[38;5;241m.\u001b[39mDataFrame(_candidates_to_dict(candidates))\n\u001b[1;32m    116\u001b[0m df\u001b[38;5;241m.\u001b[39mloc[:, \u001b[38;5;124m\"\u001b[39m\u001b[38;5;124mobservation_id\u001b[39m\u001b[38;5;124m\"\u001b[39m] \u001b[38;5;241m=\u001b[39m df\u001b[38;5;241m.\u001b[39mloc[:, \u001b[38;5;124m\"\u001b[39m\u001b[38;5;124mobservation_id\u001b[39m\u001b[38;5;124m\"\u001b[39m]\u001b[38;5;241m.\u001b[39mastype(\u001b[38;5;28mstr\u001b[39m)\n",
      "File \u001b[0;32m/nvme/users/ejgl/precovery/precovery/precovery_db.py:201\u001b[0m, in \u001b[0;36mPrecoveryDatabase.precover\u001b[0;34m(self, orbit, tolerance, max_matches, start_mjd, end_mjd, window_size, include_frame_candidates)\u001b[0m\n\u001b[1;32m    190\u001b[0m mjds \u001b[38;5;241m=\u001b[39m [window[\u001b[38;5;241m0\u001b[39m] \u001b[38;5;28;01mfor\u001b[39;00m window \u001b[38;5;129;01min\u001b[39;00m obs_windows]\n\u001b[1;32m    191\u001b[0m matches \u001b[38;5;241m=\u001b[39m \u001b[38;5;28mself\u001b[39m\u001b[38;5;241m.\u001b[39m_check_windows(\n\u001b[1;32m    192\u001b[0m     mjds,\n\u001b[1;32m    193\u001b[0m     obscode,\n\u001b[0;32m   (...)\u001b[0m\n\u001b[1;32m    199\u001b[0m     include_frame_candidates\u001b[38;5;241m=\u001b[39minclude_frame_candidates\n\u001b[1;32m    200\u001b[0m )\n\u001b[0;32m--> 201\u001b[0m \u001b[38;5;28;01mfor\u001b[39;00m result \u001b[38;5;129;01min\u001b[39;00m matches:\n\u001b[1;32m    202\u001b[0m     \u001b[38;5;28;01myield\u001b[39;00m result\n\u001b[1;32m    203\u001b[0m     n \u001b[38;5;241m+\u001b[39m\u001b[38;5;241m=\u001b[39m \u001b[38;5;241m1\u001b[39m\n",
      "File \u001b[0;32m/nvme/users/ejgl/precovery/precovery/precovery_db.py:222\u001b[0m, in \u001b[0;36mPrecoveryDatabase._check_windows\u001b[0;34m(self, window_midpoints, obscode, orbit, tolerance, start_mjd, end_mjd, window_size, include_frame_candidates)\u001b[0m\n\u001b[1;32m    218\u001b[0m \u001b[38;5;124;03m\"\"\"\u001b[39;00m\n\u001b[1;32m    219\u001b[0m \u001b[38;5;124;03mFind all observations that match orbit within a list of windows\u001b[39;00m\n\u001b[1;32m    220\u001b[0m \u001b[38;5;124;03m\"\"\"\u001b[39;00m\n\u001b[1;32m    221\u001b[0m \u001b[38;5;66;03m# Propagate the orbit with n-body to every window center\u001b[39;00m\n\u001b[0;32m--> 222\u001b[0m orbit_propagated \u001b[38;5;241m=\u001b[39m \u001b[43morbit\u001b[49m\u001b[38;5;241;43m.\u001b[39;49m\u001b[43mpropagate\u001b[49m\u001b[43m(\u001b[49m\u001b[43mwindow_midpoints\u001b[49m\u001b[43m,\u001b[49m\u001b[43m \u001b[49m\u001b[43mPropagationIntegrator\u001b[49m\u001b[38;5;241;43m.\u001b[39;49m\u001b[43mN_BODY\u001b[49m\u001b[43m)\u001b[49m\n\u001b[1;32m    224\u001b[0m \u001b[38;5;66;03m# Calculate the location of the orbit on the sky with n-body propagation\u001b[39;00m\n\u001b[1;32m    225\u001b[0m window_ephems \u001b[38;5;241m=\u001b[39m orbit\u001b[38;5;241m.\u001b[39mcompute_ephemeris(obscode, window_midpoints, PropagationIntegrator\u001b[38;5;241m.\u001b[39mN_BODY)\n",
      "File \u001b[0;32m/nvme/users/ejgl/precovery/precovery/orbit.py:205\u001b[0m, in \u001b[0;36mOrbit.propagate\u001b[0;34m(self, epochs, method)\u001b[0m\n\u001b[1;32m    196\u001b[0m epoch_array \u001b[38;5;241m=\u001b[39m np\u001b[38;5;241m.\u001b[39marray(\n\u001b[1;32m    197\u001b[0m     [epoch, \u001b[38;5;28mself\u001b[39m\u001b[38;5;241m.\u001b[39m_epoch_timescale\u001b[38;5;241m.\u001b[39mvalue], dtype\u001b[38;5;241m=\u001b[39mnp\u001b[38;5;241m.\u001b[39mdouble, order\u001b[38;5;241m=\u001b[39m\u001b[38;5;124m\"\u001b[39m\u001b[38;5;124mF\u001b[39m\u001b[38;5;124m\"\u001b[39m\n\u001b[1;32m    198\u001b[0m )\n\u001b[1;32m    200\u001b[0m result, err \u001b[38;5;241m=\u001b[39m pyoorb\u001b[38;5;241m.\u001b[39mpyoorb\u001b[38;5;241m.\u001b[39moorb_propagation(\n\u001b[1;32m    201\u001b[0m     in_orbits\u001b[38;5;241m=\u001b[39m\u001b[38;5;28mself\u001b[39m\u001b[38;5;241m.\u001b[39m_state_vector,\n\u001b[1;32m    202\u001b[0m     in_epoch\u001b[38;5;241m=\u001b[39mepoch_array,\n\u001b[1;32m    203\u001b[0m     in_dynmodel\u001b[38;5;241m=\u001b[39mdynmodel,\n\u001b[1;32m    204\u001b[0m )\n\u001b[0;32m--> 205\u001b[0m \u001b[38;5;28;01massert\u001b[39;00m err \u001b[38;5;241m==\u001b[39m \u001b[38;5;241m0\u001b[39m, \u001b[38;5;124m\"\u001b[39m\u001b[38;5;124mThere was an issue with the pyoorb orbit propagation\u001b[39m\u001b[38;5;124m\"\u001b[39m\n\u001b[1;32m    207\u001b[0m \u001b[38;5;66;03m# Pyoorb wants radians as inputs for orbits but outputs propagated orbits as degrees\u001b[39;00m\n\u001b[1;32m    208\u001b[0m \u001b[38;5;66;03m# See here: https://github.com/oorb/oorb/blob/master/python/pyoorb.f90#L347\u001b[39;00m\n\u001b[1;32m    209\u001b[0m \u001b[38;5;66;03m# Note that time of perihelion passage also is converted to a degree.\u001b[39;00m\n\u001b[1;32m    210\u001b[0m \u001b[38;5;28;01mif\u001b[39;00m (\u001b[38;5;28mself\u001b[39m\u001b[38;5;241m.\u001b[39m_orbit_type \u001b[38;5;241m==\u001b[39m OrbitElementType\u001b[38;5;241m.\u001b[39mKEPLERIAN) \u001b[38;5;129;01mor\u001b[39;00m (\u001b[38;5;28mself\u001b[39m\u001b[38;5;241m.\u001b[39m_orbit_type \u001b[38;5;241m==\u001b[39m OrbitElementType\u001b[38;5;241m.\u001b[39mCOMETARY): \n",
      "\u001b[0;31mAssertionError\u001b[0m: There was an issue with the pyoorb orbit propagation"
     ]
    }
   ],
   "source": [
    "results_5 = precover(CameronISON, DB_DIR, tolerance=1/3600)"
   ]
  },
  {
   "cell_type": "code",
   "execution_count": null,
   "id": "bbfa4626",
   "metadata": {},
   "outputs": [],
   "source": [
    "results_5"
   ]
  }
 ],
 "metadata": {
  "kernelspec": {
   "display_name": "precovery_py39",
   "language": "python",
   "name": "precovery_py39"
  },
  "language_info": {
   "codemirror_mode": {
    "name": "ipython",
    "version": 3
   },
   "file_extension": ".py",
   "mimetype": "text/x-python",
   "name": "python",
   "nbconvert_exporter": "python",
   "pygments_lexer": "ipython3",
   "version": "3.9.12"
  }
 },
 "nbformat": 4,
 "nbformat_minor": 5
}
