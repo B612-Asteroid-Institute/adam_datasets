{
 "cells": [
  {
   "cell_type": "code",
   "execution_count": 2,
   "id": "82dc6039",
   "metadata": {},
   "outputs": [
    {
     "name": "stdout",
     "output_type": "stream",
     "text": [
      "645\n",
      "[51075.29919]\n"
     ]
    },
    {
     "data": {
      "text/plain": [
       "[<precovery.orbit.Ephemeris at 0x7ff7a5786820>]"
      ]
     },
     "execution_count": 2,
     "metadata": {},
     "output_type": "execute_result"
    }
   ],
   "source": [
    "from precovery.orbit import Orbit, EpochTimescale\n",
    "from precovery import precover\n",
    "import pandas as pd\n",
    "\n",
    "orbit = Orbit.keplerian(\n",
    "    2202930,\n",
    "    2.719500955919493,\n",
    "    0.1298610598232667,\n",
    "    4.562907166251742,\n",
    "    346.1459277333923,\n",
    "    7.61979564713161,\n",
    "    118.5024332609956,\n",
    "    59260.79114232246,\n",
    "    EpochTimescale.TT, #data is in scale TDB (barycentric dynamical time)\n",
    "    16.82,\n",
    "    .15 #photometric slope parameter - what to put in?\n",
    ")\n",
    "\n",
    "orbit.compute_ephemeris('645', [51075.299190])"
   ]
  },
  {
   "cell_type": "code",
   "execution_count": 3,
   "id": "3ff27cc0",
   "metadata": {},
   "outputs": [
    {
     "name": "stdout",
     "output_type": "stream",
     "text": [
      "b'\\x85\\x02\\x00\\x00\\x00\\x00\\x00\\x00'\n",
      "[51075.29907407407, 51082.29907407407, 51460.29907407407, 51467.29907407407, 51789.29907407407, 51810.29907407407, 51817.29907407407, 51866.29907407407, 51880.29907407407, 52146.29907407407, 52167.29907407407, 52195.29907407407, 52223.29907407407, 52230.29907407407, 52251.29907407407, 52524.29907407407, 52552.29907407407, 52559.29907407407, 52580.29907407407, 52587.29907407407, 52909.29907407407, 52930.29907407407, 52937.29907407407, 52958.29907407407, 52965.29907407407, 53259.29907407407, 53266.29907407407, 53273.29907407407, 53287.29907407407, 53294.29907407407, 53315.29907407407, 53350.29907407407, 53623.29907407407, 53637.29907407407, 53644.29907407407, 53994.29907407407, 54008.29907407407, 54715.29907407407, 54743.29907407407, 54750.29907407407, 54764.29907407407, 54771.29907407407, 54792.29907407407, 54827.29907407407, 54848.29907407407, 54855.29907407407, 54862.29907407407, 55100.29907407407, 55121.29907407407, 55149.29907407407]\n"
     ]
    },
    {
     "name": "stderr",
     "output_type": "stream",
     "text": [
      "***ERROR*** 11 Oct 2022 22:06:50UTC (Observatories / getPosition) Code b'\\x85\\x02\\x00\\x00\\x00\\x00\\x00\\x00' does not refer to any observatory listed in /astro/users/ejgl/.conda/envs/precovery_py39/share/openorb/OBSCODE.dat\n",
      "***ERROR*** 11 Oct 2022 22:06:50UTC (Observatories / getGeocentricObservatoryCCoord) TRACE BACK (15)\n",
      "***ERROR*** 11 Oct 2022 22:06:50UTC (Observatories / getObservatoryCCoord) TRACE BACK (15)\n"
     ]
    },
    {
     "ename": "AssertionError",
     "evalue": "Error: 36",
     "output_type": "error",
     "traceback": [
      "\u001b[0;31m---------------------------------------------------------------------------\u001b[0m",
      "\u001b[0;31mAssertionError\u001b[0m                            Traceback (most recent call last)",
      "Input \u001b[0;32mIn [3]\u001b[0m, in \u001b[0;36m<cell line: 2>\u001b[0;34m()\u001b[0m\n\u001b[1;32m      1\u001b[0m DB_DIR \u001b[38;5;241m=\u001b[39m \u001b[38;5;124m\"\u001b[39m\u001b[38;5;124m/astro/store/epyc3/data3/adam_datasets/sdss_dr9/precovery_results_2\u001b[39m\u001b[38;5;124m\"\u001b[39m\n\u001b[0;32m----> 2\u001b[0m results \u001b[38;5;241m=\u001b[39m \u001b[43mprecover\u001b[49m\u001b[43m(\u001b[49m\u001b[43morbit\u001b[49m\u001b[43m,\u001b[49m\u001b[43m \u001b[49m\u001b[43mDB_DIR\u001b[49m\u001b[43m,\u001b[49m\u001b[43m \u001b[49m\u001b[43mtolerance\u001b[49m\u001b[38;5;241;43m=\u001b[39;49m\u001b[38;5;241;43m1\u001b[39;49m\u001b[38;5;241;43m/\u001b[39;49m\u001b[38;5;241;43m3600\u001b[39;49m\u001b[43m)\u001b[49m\n",
      "File \u001b[0;32m/nvme/users/ejgl/precovery/precovery/main.py:103\u001b[0m, in \u001b[0;36mprecover\u001b[0;34m(orbit, database_directory, tolerance, max_matches, start_mjd, end_mjd, window_size, include_frame_candidates)\u001b[0m\n\u001b[1;32m     58\u001b[0m \u001b[38;5;124;03m\"\"\"\u001b[39;00m\n\u001b[1;32m     59\u001b[0m \u001b[38;5;124;03mConnect to database directory and run precovery for the input orbit.\u001b[39;00m\n\u001b[1;32m     60\u001b[0m \n\u001b[0;32m   (...)\u001b[0m\n\u001b[1;32m     95\u001b[0m \u001b[38;5;124;03m    found within the angular tolerance.\u001b[39;00m\n\u001b[1;32m     96\u001b[0m \u001b[38;5;124;03m\"\"\"\u001b[39;00m\n\u001b[1;32m     97\u001b[0m precovery_db \u001b[38;5;241m=\u001b[39m PrecoveryDatabase\u001b[38;5;241m.\u001b[39mfrom_dir(\n\u001b[1;32m     98\u001b[0m     database_directory,\n\u001b[1;32m     99\u001b[0m     create\u001b[38;5;241m=\u001b[39m\u001b[38;5;28;01mFalse\u001b[39;00m,\n\u001b[1;32m    100\u001b[0m     mode\u001b[38;5;241m=\u001b[39m\u001b[38;5;124m\"\u001b[39m\u001b[38;5;124mr\u001b[39m\u001b[38;5;124m\"\u001b[39m\n\u001b[1;32m    101\u001b[0m )\n\u001b[0;32m--> 103\u001b[0m candidates \u001b[38;5;241m=\u001b[39m [\n\u001b[1;32m    104\u001b[0m     c \u001b[38;5;28;01mfor\u001b[39;00m c \u001b[38;5;129;01min\u001b[39;00m precovery_db\u001b[38;5;241m.\u001b[39mprecover(\n\u001b[1;32m    105\u001b[0m         orbit,\n\u001b[1;32m    106\u001b[0m         tolerance\u001b[38;5;241m=\u001b[39mtolerance,\n\u001b[1;32m    107\u001b[0m         max_matches\u001b[38;5;241m=\u001b[39mmax_matches,\n\u001b[1;32m    108\u001b[0m         start_mjd\u001b[38;5;241m=\u001b[39mstart_mjd,\n\u001b[1;32m    109\u001b[0m         end_mjd\u001b[38;5;241m=\u001b[39mend_mjd,\n\u001b[1;32m    110\u001b[0m         window_size\u001b[38;5;241m=\u001b[39mwindow_size,\n\u001b[1;32m    111\u001b[0m         include_frame_candidates\u001b[38;5;241m=\u001b[39minclude_frame_candidates\n\u001b[1;32m    112\u001b[0m     )\n\u001b[1;32m    113\u001b[0m ]\n\u001b[1;32m    115\u001b[0m df \u001b[38;5;241m=\u001b[39m pd\u001b[38;5;241m.\u001b[39mDataFrame(_candidates_to_dict(candidates))\n\u001b[1;32m    116\u001b[0m df\u001b[38;5;241m.\u001b[39mloc[:, \u001b[38;5;124m\"\u001b[39m\u001b[38;5;124mobservation_id\u001b[39m\u001b[38;5;124m\"\u001b[39m] \u001b[38;5;241m=\u001b[39m df\u001b[38;5;241m.\u001b[39mloc[:, \u001b[38;5;124m\"\u001b[39m\u001b[38;5;124mobservation_id\u001b[39m\u001b[38;5;124m\"\u001b[39m]\u001b[38;5;241m.\u001b[39mastype(\u001b[38;5;28mstr\u001b[39m)\n",
      "File \u001b[0;32m/nvme/users/ejgl/precovery/precovery/main.py:103\u001b[0m, in \u001b[0;36m<listcomp>\u001b[0;34m(.0)\u001b[0m\n\u001b[1;32m     58\u001b[0m \u001b[38;5;124;03m\"\"\"\u001b[39;00m\n\u001b[1;32m     59\u001b[0m \u001b[38;5;124;03mConnect to database directory and run precovery for the input orbit.\u001b[39;00m\n\u001b[1;32m     60\u001b[0m \n\u001b[0;32m   (...)\u001b[0m\n\u001b[1;32m     95\u001b[0m \u001b[38;5;124;03m    found within the angular tolerance.\u001b[39;00m\n\u001b[1;32m     96\u001b[0m \u001b[38;5;124;03m\"\"\"\u001b[39;00m\n\u001b[1;32m     97\u001b[0m precovery_db \u001b[38;5;241m=\u001b[39m PrecoveryDatabase\u001b[38;5;241m.\u001b[39mfrom_dir(\n\u001b[1;32m     98\u001b[0m     database_directory,\n\u001b[1;32m     99\u001b[0m     create\u001b[38;5;241m=\u001b[39m\u001b[38;5;28;01mFalse\u001b[39;00m,\n\u001b[1;32m    100\u001b[0m     mode\u001b[38;5;241m=\u001b[39m\u001b[38;5;124m\"\u001b[39m\u001b[38;5;124mr\u001b[39m\u001b[38;5;124m\"\u001b[39m\n\u001b[1;32m    101\u001b[0m )\n\u001b[0;32m--> 103\u001b[0m candidates \u001b[38;5;241m=\u001b[39m [\n\u001b[1;32m    104\u001b[0m     c \u001b[38;5;28;01mfor\u001b[39;00m c \u001b[38;5;129;01min\u001b[39;00m precovery_db\u001b[38;5;241m.\u001b[39mprecover(\n\u001b[1;32m    105\u001b[0m         orbit,\n\u001b[1;32m    106\u001b[0m         tolerance\u001b[38;5;241m=\u001b[39mtolerance,\n\u001b[1;32m    107\u001b[0m         max_matches\u001b[38;5;241m=\u001b[39mmax_matches,\n\u001b[1;32m    108\u001b[0m         start_mjd\u001b[38;5;241m=\u001b[39mstart_mjd,\n\u001b[1;32m    109\u001b[0m         end_mjd\u001b[38;5;241m=\u001b[39mend_mjd,\n\u001b[1;32m    110\u001b[0m         window_size\u001b[38;5;241m=\u001b[39mwindow_size,\n\u001b[1;32m    111\u001b[0m         include_frame_candidates\u001b[38;5;241m=\u001b[39minclude_frame_candidates\n\u001b[1;32m    112\u001b[0m     )\n\u001b[1;32m    113\u001b[0m ]\n\u001b[1;32m    115\u001b[0m df \u001b[38;5;241m=\u001b[39m pd\u001b[38;5;241m.\u001b[39mDataFrame(_candidates_to_dict(candidates))\n\u001b[1;32m    116\u001b[0m df\u001b[38;5;241m.\u001b[39mloc[:, \u001b[38;5;124m\"\u001b[39m\u001b[38;5;124mobservation_id\u001b[39m\u001b[38;5;124m\"\u001b[39m] \u001b[38;5;241m=\u001b[39m df\u001b[38;5;241m.\u001b[39mloc[:, \u001b[38;5;124m\"\u001b[39m\u001b[38;5;124mobservation_id\u001b[39m\u001b[38;5;124m\"\u001b[39m]\u001b[38;5;241m.\u001b[39mastype(\u001b[38;5;28mstr\u001b[39m)\n",
      "File \u001b[0;32m/nvme/users/ejgl/precovery/precovery/precovery_db.py:201\u001b[0m, in \u001b[0;36mPrecoveryDatabase.precover\u001b[0;34m(self, orbit, tolerance, max_matches, start_mjd, end_mjd, window_size, include_frame_candidates)\u001b[0m\n\u001b[1;32m    190\u001b[0m mjds \u001b[38;5;241m=\u001b[39m [window[\u001b[38;5;241m0\u001b[39m] \u001b[38;5;28;01mfor\u001b[39;00m window \u001b[38;5;129;01min\u001b[39;00m obs_windows]\n\u001b[1;32m    191\u001b[0m matches \u001b[38;5;241m=\u001b[39m \u001b[38;5;28mself\u001b[39m\u001b[38;5;241m.\u001b[39m_check_windows(\n\u001b[1;32m    192\u001b[0m     mjds,\n\u001b[1;32m    193\u001b[0m     obscode,\n\u001b[0;32m   (...)\u001b[0m\n\u001b[1;32m    199\u001b[0m     include_frame_candidates\u001b[38;5;241m=\u001b[39minclude_frame_candidates\n\u001b[1;32m    200\u001b[0m )\n\u001b[0;32m--> 201\u001b[0m \u001b[38;5;28;01mfor\u001b[39;00m result \u001b[38;5;129;01min\u001b[39;00m matches:\n\u001b[1;32m    202\u001b[0m     \u001b[38;5;28;01myield\u001b[39;00m result\n\u001b[1;32m    203\u001b[0m     n \u001b[38;5;241m+\u001b[39m\u001b[38;5;241m=\u001b[39m \u001b[38;5;241m1\u001b[39m\n",
      "File \u001b[0;32m/nvme/users/ejgl/precovery/precovery/precovery_db.py:225\u001b[0m, in \u001b[0;36mPrecoveryDatabase._check_windows\u001b[0;34m(self, window_midpoints, obscode, orbit, tolerance, start_mjd, end_mjd, window_size, include_frame_candidates)\u001b[0m\n\u001b[1;32m    222\u001b[0m orbit_propagated \u001b[38;5;241m=\u001b[39m orbit\u001b[38;5;241m.\u001b[39mpropagate(window_midpoints, PropagationIntegrator\u001b[38;5;241m.\u001b[39mN_BODY)\n\u001b[1;32m    224\u001b[0m \u001b[38;5;66;03m# Calculate the location of the orbit on the sky with n-body propagation\u001b[39;00m\n\u001b[0;32m--> 225\u001b[0m window_ephems \u001b[38;5;241m=\u001b[39m \u001b[43morbit\u001b[49m\u001b[38;5;241;43m.\u001b[39;49m\u001b[43mcompute_ephemeris\u001b[49m\u001b[43m(\u001b[49m\u001b[43mobscode\u001b[49m\u001b[43m,\u001b[49m\u001b[43m \u001b[49m\u001b[43mwindow_midpoints\u001b[49m\u001b[43m,\u001b[49m\u001b[43m \u001b[49m\u001b[43mPropagationIntegrator\u001b[49m\u001b[38;5;241;43m.\u001b[39;49m\u001b[43mN_BODY\u001b[49m\u001b[43m)\u001b[49m\n\u001b[1;32m    226\u001b[0m window_healpixels \u001b[38;5;241m=\u001b[39m radec_to_healpixel(\n\u001b[1;32m    227\u001b[0m     np\u001b[38;5;241m.\u001b[39marray([w\u001b[38;5;241m.\u001b[39mra \u001b[38;5;28;01mfor\u001b[39;00m w \u001b[38;5;129;01min\u001b[39;00m window_ephems]),\n\u001b[1;32m    228\u001b[0m     np\u001b[38;5;241m.\u001b[39marray([w\u001b[38;5;241m.\u001b[39mdec \u001b[38;5;28;01mfor\u001b[39;00m w \u001b[38;5;129;01min\u001b[39;00m window_ephems]),\n\u001b[1;32m    229\u001b[0m     \u001b[38;5;28mself\u001b[39m\u001b[38;5;241m.\u001b[39mframes\u001b[38;5;241m.\u001b[39mhealpix_nside,\n\u001b[1;32m    230\u001b[0m )\u001b[38;5;241m.\u001b[39mastype(\u001b[38;5;28mint\u001b[39m)\n\u001b[1;32m    232\u001b[0m \u001b[38;5;66;03m# Using the propagated orbits, check each window. Propagate the orbit from the center of\u001b[39;00m\n\u001b[1;32m    233\u001b[0m \u001b[38;5;66;03m# window using 2-body to find any HealpixFrames where a detection could have occured\u001b[39;00m\n",
      "File \u001b[0;32m/nvme/users/ejgl/precovery/precovery/orbit.py:255\u001b[0m, in \u001b[0;36mOrbit.compute_ephemeris\u001b[0;34m(self, obscode, epochs, method)\u001b[0m\n\u001b[1;32m    247\u001b[0m eph, err \u001b[38;5;241m=\u001b[39m pyoorb\u001b[38;5;241m.\u001b[39mpyoorb\u001b[38;5;241m.\u001b[39moorb_ephemeris_basic(\n\u001b[1;32m    248\u001b[0m     in_orbits\u001b[38;5;241m=\u001b[39m\u001b[38;5;28mself\u001b[39m\u001b[38;5;241m.\u001b[39m_state_vector,\n\u001b[1;32m    249\u001b[0m     in_obscode\u001b[38;5;241m=\u001b[39m\u001b[38;5;28mstr\u001b[39m(obscode)\u001b[38;5;241m.\u001b[39mencode(),\n\u001b[1;32m    250\u001b[0m     in_date_ephems\u001b[38;5;241m=\u001b[39mepochs_array,\n\u001b[1;32m    251\u001b[0m     in_dynmodel\u001b[38;5;241m=\u001b[39mdynmodel,\n\u001b[1;32m    252\u001b[0m )\n\u001b[1;32m    253\u001b[0m \u001b[38;5;66;03m# print(epochs_array.shape)\u001b[39;00m\n\u001b[1;32m    254\u001b[0m \u001b[38;5;66;03m# print(eph.shape)\u001b[39;00m\n\u001b[0;32m--> 255\u001b[0m \u001b[38;5;28;01massert\u001b[39;00m err \u001b[38;5;241m==\u001b[39m \u001b[38;5;241m0\u001b[39m, \u001b[38;5;124mf\u001b[39m\u001b[38;5;124m\"\u001b[39m\u001b[38;5;124mError: \u001b[39m\u001b[38;5;132;01m{\u001b[39;00merr\u001b[38;5;132;01m}\u001b[39;00m\u001b[38;5;124m\"\u001b[39m\n\u001b[1;32m    256\u001b[0m \u001b[38;5;28;01mreturn\u001b[39;00m [Ephemeris(eph[\u001b[38;5;241m0\u001b[39m, i, :]) \u001b[38;5;28;01mfor\u001b[39;00m i \u001b[38;5;129;01min\u001b[39;00m \u001b[38;5;28mrange\u001b[39m(epochs_array\u001b[38;5;241m.\u001b[39mshape[\u001b[38;5;241m0\u001b[39m])]\n",
      "\u001b[0;31mAssertionError\u001b[0m: Error: 36"
     ]
    }
   ],
   "source": [
    "DB_DIR = \"/astro/store/epyc3/data3/adam_datasets/sdss_dr9/precovery_results_2\"\n",
    "results = precover(orbit, DB_DIR, tolerance=1/3600)"
   ]
  },
  {
   "cell_type": "code",
   "execution_count": 4,
   "id": "8ac617e1",
   "metadata": {},
   "outputs": [],
   "source": [
    "import sqlite3 as sql\n",
    "\n",
    "con = sql.connect(DB_DIR + '/index.db')"
   ]
  },
  {
   "cell_type": "code",
   "execution_count": 5,
   "id": "6b9d8a3f",
   "metadata": {},
   "outputs": [
    {
     "ename": "OperationalError",
     "evalue": "index fast_query already exists",
     "output_type": "error",
     "traceback": [
      "\u001b[0;31m---------------------------------------------------------------------------\u001b[0m",
      "\u001b[0;31mOperationalError\u001b[0m                          Traceback (most recent call last)",
      "Input \u001b[0;32mIn [5]\u001b[0m, in \u001b[0;36m<cell line: 1>\u001b[0;34m()\u001b[0m\n\u001b[0;32m----> 1\u001b[0m \u001b[43mcon\u001b[49m\u001b[38;5;241;43m.\u001b[39;49m\u001b[43mexecute\u001b[49m\u001b[43m(\u001b[49m\u001b[38;5;124;43m'\u001b[39;49m\u001b[38;5;124;43mCREATE index fast_query on frames (mjd, healpixel, obscode)\u001b[39;49m\u001b[38;5;124;43m'\u001b[39;49m\u001b[43m)\u001b[49m\n",
      "\u001b[0;31mOperationalError\u001b[0m: index fast_query already exists"
     ]
    }
   ],
   "source": [
    "con.execute('CREATE index fast_query on frames (mjd, healpixel, obscode)')"
   ]
  },
  {
   "cell_type": "code",
   "execution_count": 6,
   "id": "5922c032",
   "metadata": {},
   "outputs": [],
   "source": [
    "frames = pd.read_sql('SELECT * FROM frames', con)"
   ]
  },
  {
   "cell_type": "code",
   "execution_count": 7,
   "id": "2e84316e",
   "metadata": {},
   "outputs": [
    {
     "data": {
      "text/html": [
       "<div>\n",
       "<style scoped>\n",
       "    .dataframe tbody tr th:only-of-type {\n",
       "        vertical-align: middle;\n",
       "    }\n",
       "\n",
       "    .dataframe tbody tr th {\n",
       "        vertical-align: top;\n",
       "    }\n",
       "\n",
       "    .dataframe thead th {\n",
       "        text-align: right;\n",
       "    }\n",
       "</style>\n",
       "<table border=\"1\" class=\"dataframe\">\n",
       "  <thead>\n",
       "    <tr style=\"text-align: right;\">\n",
       "      <th></th>\n",
       "      <th>id</th>\n",
       "      <th>dataset_id</th>\n",
       "      <th>obscode</th>\n",
       "      <th>exposure_id</th>\n",
       "      <th>filter</th>\n",
       "      <th>mjd</th>\n",
       "      <th>healpixel</th>\n",
       "      <th>data_uri</th>\n",
       "      <th>data_offset</th>\n",
       "      <th>data_length</th>\n",
       "    </tr>\n",
       "  </thead>\n",
       "  <tbody>\n",
       "    <tr>\n",
       "      <th>0</th>\n",
       "      <td>1</td>\n",
       "      <td>SDSS_DR9</td>\n",
       "      <td>b'\\x85\\x02\\x00\\x00\\x00\\x00\\x00\\x00'</td>\n",
       "      <td>b'\\x00\\x00J\\xa0}\\x00-\\x11'</td>\n",
       "      <td>i</td>\n",
       "      <td>51081.282755</td>\n",
       "      <td>4864</td>\n",
       "      <td>frames_00000000.data</td>\n",
       "      <td>0</td>\n",
       "      <td>142</td>\n",
       "    </tr>\n",
       "    <tr>\n",
       "      <th>1</th>\n",
       "      <td>2</td>\n",
       "      <td>SDSS_DR9</td>\n",
       "      <td>b'\\x85\\x02\\x00\\x00\\x00\\x00\\x00\\x00'</td>\n",
       "      <td>b'\\x00\\x00\\xa8\\xc0^\\x00-\\x11'</td>\n",
       "      <td>i</td>\n",
       "      <td>51075.299190</td>\n",
       "      <td>4864</td>\n",
       "      <td>frames_00000000.data</td>\n",
       "      <td>142</td>\n",
       "      <td>284</td>\n",
       "    </tr>\n",
       "    <tr>\n",
       "      <th>2</th>\n",
       "      <td>3</td>\n",
       "      <td>SDSS_DR9</td>\n",
       "      <td>b'\\x85\\x02\\x00\\x00\\x00\\x00\\x00\\x00'</td>\n",
       "      <td>b'\\x00\\x00\\xa8\\x80^\\x00-\\x11'</td>\n",
       "      <td>i</td>\n",
       "      <td>51075.299190</td>\n",
       "      <td>4864</td>\n",
       "      <td>frames_00000000.data</td>\n",
       "      <td>426</td>\n",
       "      <td>142</td>\n",
       "    </tr>\n",
       "    <tr>\n",
       "      <th>3</th>\n",
       "      <td>4</td>\n",
       "      <td>SDSS_DR9</td>\n",
       "      <td>b'\\x85\\x02\\x00\\x00\\x00\\x00\\x00\\x00'</td>\n",
       "      <td>b'\\x00\\x00\\xa8`^\\x00-\\x11'</td>\n",
       "      <td>i</td>\n",
       "      <td>51075.299074</td>\n",
       "      <td>4351</td>\n",
       "      <td>frames_00000000.data</td>\n",
       "      <td>568</td>\n",
       "      <td>71</td>\n",
       "    </tr>\n",
       "    <tr>\n",
       "      <th>4</th>\n",
       "      <td>5</td>\n",
       "      <td>SDSS_DR9</td>\n",
       "      <td>b'\\x85\\x02\\x00\\x00\\x00\\x00\\x00\\x00'</td>\n",
       "      <td>b'\\x00\\x00\\xa8\\xc0^\\x00-\\x11'</td>\n",
       "      <td>i</td>\n",
       "      <td>51075.299074</td>\n",
       "      <td>4864</td>\n",
       "      <td>frames_00000000.data</td>\n",
       "      <td>639</td>\n",
       "      <td>142</td>\n",
       "    </tr>\n",
       "    <tr>\n",
       "      <th>...</th>\n",
       "      <td>...</td>\n",
       "      <td>...</td>\n",
       "      <td>...</td>\n",
       "      <td>...</td>\n",
       "      <td>...</td>\n",
       "      <td>...</td>\n",
       "      <td>...</td>\n",
       "      <td>...</td>\n",
       "      <td>...</td>\n",
       "      <td>...</td>\n",
       "    </tr>\n",
       "    <tr>\n",
       "      <th>1159608</th>\n",
       "      <td>1159609</td>\n",
       "      <td>SDSS_DR9</td>\n",
       "      <td>b'\\x85\\x02\\x00\\x00\\x00\\x00\\x00\\x00'</td>\n",
       "      <td>b'\\x00\\x00\\x81@\\xdd\\x1f-\\x11'</td>\n",
       "      <td>i</td>\n",
       "      <td>55152.267940</td>\n",
       "      <td>5108</td>\n",
       "      <td>frames_00000000.data</td>\n",
       "      <td>350069121</td>\n",
       "      <td>71</td>\n",
       "    </tr>\n",
       "    <tr>\n",
       "      <th>1159609</th>\n",
       "      <td>1159610</td>\n",
       "      <td>SDSS_DR9</td>\n",
       "      <td>b'\\x85\\x02\\x00\\x00\\x00\\x00\\x00\\x00'</td>\n",
       "      <td>b'\\x00\\x00\\x81\\xc0\\xdd\\x1f-\\x11'</td>\n",
       "      <td>i</td>\n",
       "      <td>55152.268056</td>\n",
       "      <td>5110</td>\n",
       "      <td>frames_00000000.data</td>\n",
       "      <td>350069192</td>\n",
       "      <td>142</td>\n",
       "    </tr>\n",
       "    <tr>\n",
       "      <th>1159610</th>\n",
       "      <td>1159611</td>\n",
       "      <td>SDSS_DR9</td>\n",
       "      <td>b'\\x85\\x02\\x00\\x00\\x00\\x00\\x00\\x00'</td>\n",
       "      <td>b'\\x00\\x001@\\xde\\x1f-\\x11'</td>\n",
       "      <td>i</td>\n",
       "      <td>55152.300000</td>\n",
       "      <td>5108</td>\n",
       "      <td>frames_00000000.data</td>\n",
       "      <td>350069334</td>\n",
       "      <td>71</td>\n",
       "    </tr>\n",
       "    <tr>\n",
       "      <th>1159611</th>\n",
       "      <td>1159612</td>\n",
       "      <td>SDSS_DR9</td>\n",
       "      <td>b'\\x85\\x02\\x00\\x00\\x00\\x00\\x00\\x00'</td>\n",
       "      <td>b'\\x00\\x001\\xa0\\xde\\x1f-\\x11'</td>\n",
       "      <td>i</td>\n",
       "      <td>55152.300116</td>\n",
       "      <td>5110</td>\n",
       "      <td>frames_00000000.data</td>\n",
       "      <td>350069405</td>\n",
       "      <td>71</td>\n",
       "    </tr>\n",
       "    <tr>\n",
       "      <th>1159612</th>\n",
       "      <td>1159613</td>\n",
       "      <td>SDSS_DR9</td>\n",
       "      <td>b'\\x85\\x02\\x00\\x00\\x00\\x00\\x00\\x00'</td>\n",
       "      <td>b'\\x00\\x001\\xc0\\xde\\x1f-\\x11'</td>\n",
       "      <td>i</td>\n",
       "      <td>55152.300116</td>\n",
       "      <td>5110</td>\n",
       "      <td>frames_00000000.data</td>\n",
       "      <td>350069476</td>\n",
       "      <td>213</td>\n",
       "    </tr>\n",
       "  </tbody>\n",
       "</table>\n",
       "<p>1159613 rows × 10 columns</p>\n",
       "</div>"
      ],
      "text/plain": [
       "              id dataset_id                              obscode  \\\n",
       "0              1   SDSS_DR9  b'\\x85\\x02\\x00\\x00\\x00\\x00\\x00\\x00'   \n",
       "1              2   SDSS_DR9  b'\\x85\\x02\\x00\\x00\\x00\\x00\\x00\\x00'   \n",
       "2              3   SDSS_DR9  b'\\x85\\x02\\x00\\x00\\x00\\x00\\x00\\x00'   \n",
       "3              4   SDSS_DR9  b'\\x85\\x02\\x00\\x00\\x00\\x00\\x00\\x00'   \n",
       "4              5   SDSS_DR9  b'\\x85\\x02\\x00\\x00\\x00\\x00\\x00\\x00'   \n",
       "...          ...        ...                                  ...   \n",
       "1159608  1159609   SDSS_DR9  b'\\x85\\x02\\x00\\x00\\x00\\x00\\x00\\x00'   \n",
       "1159609  1159610   SDSS_DR9  b'\\x85\\x02\\x00\\x00\\x00\\x00\\x00\\x00'   \n",
       "1159610  1159611   SDSS_DR9  b'\\x85\\x02\\x00\\x00\\x00\\x00\\x00\\x00'   \n",
       "1159611  1159612   SDSS_DR9  b'\\x85\\x02\\x00\\x00\\x00\\x00\\x00\\x00'   \n",
       "1159612  1159613   SDSS_DR9  b'\\x85\\x02\\x00\\x00\\x00\\x00\\x00\\x00'   \n",
       "\n",
       "                              exposure_id filter           mjd  healpixel  \\\n",
       "0              b'\\x00\\x00J\\xa0}\\x00-\\x11'      i  51081.282755       4864   \n",
       "1           b'\\x00\\x00\\xa8\\xc0^\\x00-\\x11'      i  51075.299190       4864   \n",
       "2           b'\\x00\\x00\\xa8\\x80^\\x00-\\x11'      i  51075.299190       4864   \n",
       "3              b'\\x00\\x00\\xa8`^\\x00-\\x11'      i  51075.299074       4351   \n",
       "4           b'\\x00\\x00\\xa8\\xc0^\\x00-\\x11'      i  51075.299074       4864   \n",
       "...                                   ...    ...           ...        ...   \n",
       "1159608     b'\\x00\\x00\\x81@\\xdd\\x1f-\\x11'      i  55152.267940       5108   \n",
       "1159609  b'\\x00\\x00\\x81\\xc0\\xdd\\x1f-\\x11'      i  55152.268056       5110   \n",
       "1159610        b'\\x00\\x001@\\xde\\x1f-\\x11'      i  55152.300000       5108   \n",
       "1159611     b'\\x00\\x001\\xa0\\xde\\x1f-\\x11'      i  55152.300116       5110   \n",
       "1159612     b'\\x00\\x001\\xc0\\xde\\x1f-\\x11'      i  55152.300116       5110   \n",
       "\n",
       "                     data_uri  data_offset  data_length  \n",
       "0        frames_00000000.data            0          142  \n",
       "1        frames_00000000.data          142          284  \n",
       "2        frames_00000000.data          426          142  \n",
       "3        frames_00000000.data          568           71  \n",
       "4        frames_00000000.data          639          142  \n",
       "...                       ...          ...          ...  \n",
       "1159608  frames_00000000.data    350069121           71  \n",
       "1159609  frames_00000000.data    350069192          142  \n",
       "1159610  frames_00000000.data    350069334           71  \n",
       "1159611  frames_00000000.data    350069405           71  \n",
       "1159612  frames_00000000.data    350069476          213  \n",
       "\n",
       "[1159613 rows x 10 columns]"
      ]
     },
     "execution_count": 7,
     "metadata": {},
     "output_type": "execute_result"
    }
   ],
   "source": [
    "frames"
   ]
  },
  {
   "cell_type": "code",
   "execution_count": 13,
   "id": "f001a798",
   "metadata": {},
   "outputs": [],
   "source": [
    "con.close()"
   ]
  },
  {
   "cell_type": "code",
   "execution_count": 8,
   "id": "60eb8e0f",
   "metadata": {},
   "outputs": [],
   "source": [
    "HDF_DIR = '/astro/users/ejgl/epyc/data3/adam_datasets/sdss_dr9/hdf5_test'\n",
    "\n",
    "#hdf5_files = glob.glob(os.path.join(HDF_DIR, '*'))\n",
    "#for file in hdf5_files:\n",
    "#    hd_df = pd.read_hdf(file)\n",
    "#    hd_df['observatory_code'] = hd_df['observatory_code'].astype(str)\n",
    "#    hd_df['exposure_id'] = hd_df['exposure_id'].astype(str)\n",
    "#    hd_df['obs_id'] = hd_df['obs_id'].astype(str)\n",
    "#    hd_df.to_hdf(file, key='data')"
   ]
  },
  {
   "cell_type": "code",
   "execution_count": 10,
   "id": "1aefcdb7",
   "metadata": {},
   "outputs": [],
   "source": [
    "import glob\n",
    "import os"
   ]
  },
  {
   "cell_type": "code",
   "execution_count": 12,
   "id": "3178674c",
   "metadata": {},
   "outputs": [
    {
     "data": {
      "text/plain": [
       "51        645\n",
       "52        645\n",
       "53        645\n",
       "54        645\n",
       "129       645\n",
       "         ... \n",
       "236669    645\n",
       "236670    645\n",
       "236671    645\n",
       "236672    645\n",
       "236673    645\n",
       "Name: observatory_code, Length: 48505, dtype: int64"
      ]
     },
     "execution_count": 12,
     "metadata": {},
     "output_type": "execute_result"
    }
   ],
   "source": [
    "hdf5_files = glob.glob(os.path.join(HDF_DIR, '*'))\n",
    "hd_df = pd.read_hdf(hdf5_files[0])\n",
    "hd_df['observatory_code']"
   ]
  },
  {
   "cell_type": "code",
   "execution_count": null,
   "id": "3e5dedec",
   "metadata": {},
   "outputs": [],
   "source": []
  }
 ],
 "metadata": {
  "kernelspec": {
   "display_name": "precovery_py39",
   "language": "python",
   "name": "precovery_py39"
  },
  "language_info": {
   "codemirror_mode": {
    "name": "ipython",
    "version": 3
   },
   "file_extension": ".py",
   "mimetype": "text/x-python",
   "name": "python",
   "nbconvert_exporter": "python",
   "pygments_lexer": "ipython3",
   "version": "3.9.12"
  }
 },
 "nbformat": 4,
 "nbformat_minor": 5
}
