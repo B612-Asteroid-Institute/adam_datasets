{
 "cells": [
  {
   "cell_type": "code",
   "execution_count": 1,
   "id": "0133c147",
   "metadata": {},
   "outputs": [
    {
     "name": "stderr",
     "output_type": "stream",
     "text": [
      "/tmp/ipykernel_3501/1231743142.py:11: DeprecationWarning: Importing display from IPython.core.display is deprecated since IPython 7.14, please import from IPython display\n",
      "  from IPython.core.display import display\n"
     ]
    }
   ],
   "source": [
    "import pyvo as vo\n",
    "from astroquery.mast import Mast\n",
    "from astropy.table import Table\n",
    "import requests\n",
    "import astropy\n",
    "import numpy as np\n",
    "import pylab\n",
    "import time\n",
    "import json\n",
    "from matplotlib import pyplot as plt\n",
    "from IPython.core.display import display\n",
    "from IPython.core.display import HTML\n",
    "import warnings\n",
    "warnings.filterwarnings(\"ignore\", module=\"astropy.io.votable.*\")\n",
    "warnings.filterwarnings(\"ignore\", module=\"pyvo.utils.xml.elements\")"
   ]
  },
  {
   "cell_type": "code",
   "execution_count": 30,
   "id": "f2b5f760",
   "metadata": {},
   "outputs": [],
   "source": [
    "import pyvo as vo\n",
    "import pandas as pd\n",
    "import numpy as np\n",
    "import os\n",
    "from astropy.time import Time\n",
    "from astropy import units as u\n",
    "from tqdm import tqdm, trange\n",
    "from math import ceil\n",
    "from astropy.time import TimeDelta\n",
    "import time\n",
    "import threading\n",
    "import multiprocessing"
   ]
  },
  {
   "cell_type": "code",
   "execution_count": 2,
   "id": "1117b8c9",
   "metadata": {},
   "outputs": [],
   "source": [
    "TAP_service = vo.dal.TAPService(\"https://vao.stsci.edu/PS1DR2/tapservice.aspx\")"
   ]
  },
  {
   "cell_type": "code",
   "execution_count": 24,
   "id": "b28e45de",
   "metadata": {},
   "outputs": [
    {
     "name": "stdout",
     "output_type": "stream",
     "text": [
      "SELECT\n",
      "objID, detectID, Detection.filterID as filterID, Filter.filterType, obsTime, ra, dec,\n",
      "psfFlux, psfFluxErr, psfMajorFWHM, psfMinorFWHM, psfQfPerfect, \n",
      "apFlux, apFluxErr, infoFlag, infoFlag2, infoFlag3\n",
      "FROM Detection\n",
      "NATURAL JOIN Filter\n",
      "WHERE objID >= 72002759236154323\n",
      "AND objID <= 72003271819814312\n",
      "ORDER BY filterID, obsTime\n",
      "\n"
     ]
    },
    {
     "data": {
      "text/html": [
       "<div><i>Table length=100000</i>\n",
       "<table id=\"table139727812644624\" class=\"table-striped table-bordered table-condensed\">\n",
       "<thead><tr><th>objID</th><th>detectID</th><th>filterid</th><th>filterType</th><th>obsTime</th><th>ra</th><th>dec</th><th>psfFlux</th><th>psfFluxErr</th><th>psfMajorFWHM</th><th>psfMinorFWHM</th><th>psfQfPerfect</th><th>apFlux</th><th>apFluxErr</th><th>infoFlag</th><th>infoFlag2</th><th>infoFlag3</th></tr></thead>\n",
       "<thead><tr><th></th><th></th><th></th><th></th><th></th><th>deg</th><th>deg</th><th></th><th></th><th></th><th></th><th></th><th></th><th></th><th></th><th></th><th></th></tr></thead>\n",
       "<thead><tr><th>int64</th><th>int64</th><th>uint8</th><th>object</th><th>float64</th><th>float64</th><th>float64</th><th>float32</th><th>float32</th><th>float32</th><th>float32</th><th>float32</th><th>float32</th><th>float32</th><th>int64</th><th>int32</th><th>int32</th></tr></thead>\n",
       "<tr><td>72002801748879088</td><td>89850505040007306</td><td>1</td><td>g</td><td>54999.5054092</td><td>280.17486597</td><td>-29.99269896</td><td>4.74451e-05</td><td>1.25481e-05</td><td>2.36486</td><td>1.86551</td><td>0.446414</td><td>2.81233e-05</td><td>1.07269e-06</td><td>35651585</td><td>0</td><td>3145728</td></tr>\n",
       "<tr><td>72002801754357527</td><td>89850505040008502</td><td>1</td><td>g</td><td>54999.5054092</td><td>280.17541498</td><td>-29.99399945</td><td>7.40373e-05</td><td>1.23287e-05</td><td>2.36486</td><td>1.86551</td><td>0.477376</td><td>1.21513e-05</td><td>7.11918e-07</td><td>35651585</td><td>0</td><td>3145728</td></tr>\n",
       "<tr><td>72002801782721082</td><td>89850505040002367</td><td>1</td><td>g</td><td>54999.5054092</td><td>280.17825437</td><td>-29.99937001</td><td>0.000319424</td><td>1.21124e-05</td><td>2.36487</td><td>1.86552</td><td>0.517788</td><td>0.000330719</td><td>3.71409e-06</td><td>102760453</td><td>128</td><td>0</td></tr>\n",
       "<tr><td>72002801785808280</td><td>89850505040004123</td><td>1</td><td>g</td><td>54999.5054092</td><td>280.17857231</td><td>-29.99341892</td><td>0.000208433</td><td>8.23337e-06</td><td>2.3649</td><td>1.86555</td><td>0.999082</td><td>0.000131464</td><td>2.31922e-06</td><td>35651585</td><td>128</td><td>7342144</td></tr>\n",
       "<tr><td>72002801804842373</td><td>89850505040007902</td><td>1</td><td>g</td><td>54999.5054092</td><td>280.18048</td><td>-29.99830059</td><td>0.000131698</td><td>7.87816e-06</td><td>2.3649</td><td>1.86555</td><td>0.999321</td><td>0.00010994</td><td>2.12507e-06</td><td>35651585</td><td>0</td><td>7342144</td></tr>\n",
       "<tr><td>72002801808126490</td><td>89850505040009835</td><td>1</td><td>g</td><td>54999.5054092</td><td>280.18079823</td><td>-29.99488572</td><td>0.000141958</td><td>7.87803e-06</td><td>2.36493</td><td>1.86557</td><td>0.999412</td><td>0.000203319</td><td>2.89457e-06</td><td>35667969</td><td>0</td><td>124782656</td></tr>\n",
       "<tr><td>72002801826034495</td><td>89850505040003082</td><td>1</td><td>g</td><td>54999.5054092</td><td>280.18259505</td><td>-29.99651777</td><td>0.000277004</td><td>8.4218e-06</td><td>2.36494</td><td>1.86558</td><td>0.999422</td><td>0.000233402</td><td>3.10447e-06</td><td>102760453</td><td>128</td><td>7342144</td></tr>\n",
       "<tr><td>72002801829676324</td><td>89850505040004945</td><td>1</td><td>g</td><td>54999.5054092</td><td>280.18292553</td><td>-29.99497545</td><td>0.000158017</td><td>7.92758e-06</td><td>2.36496</td><td>1.86559</td><td>0.999409</td><td>0.000186014</td><td>2.76864e-06</td><td>35651585</td><td>0</td><td>7342144</td></tr>\n",
       "<tr><td>72002801857942816</td><td>89850505040010320</td><td>1</td><td>g</td><td>54999.5054092</td><td>280.18578805</td><td>-29.9979329</td><td>0.00011559</td><td>7.87913e-06</td><td>2.36498</td><td>1.86561</td><td>0.999141</td><td>0.000125824</td><td>2.27981e-06</td><td>35651585</td><td>0</td><td>7342144</td></tr>\n",
       "<tr><td>...</td><td>...</td><td>...</td><td>...</td><td>...</td><td>...</td><td>...</td><td>...</td><td>...</td><td>...</td><td>...</td><td>...</td><td>...</td><td>...</td><td>...</td><td>...</td><td>...</td></tr>\n",
       "<tr><td>72002776390151219</td><td>172124932100003948</td><td>1</td><td>g</td><td>55822.2495841</td><td>277.63900596</td><td>-29.99925278</td><td>0.000125766</td><td>1.86995e-06</td><td>1.185</td><td>1.11291</td><td>0.0</td><td>0.000117134</td><td>1.36908e-06</td><td>102760453</td><td>160</td><td>34880</td></tr>\n",
       "<tr><td>72002776387404408</td><td>172124932100000990</td><td>1</td><td>g</td><td>55822.2495841</td><td>277.63870493</td><td>-29.9965681</td><td>0.000685296</td><td>3.46021e-06</td><td>1.18461</td><td>1.11218</td><td>0.0369346</td><td>0.000664603</td><td>3.26739e-06</td><td>102760517</td><td>160</td><td>34880</td></tr>\n",
       "<tr><td>72002776387056438</td><td>172124932100007178</td><td>1</td><td>g</td><td>55822.2495841</td><td>277.63869112</td><td>-29.99486363</td><td>7.28053e-05</td><td>1.57275e-06</td><td>1.1844</td><td>1.1119</td><td>0.992802</td><td>7.61915e-05</td><td>1.1063e-06</td><td>35651585</td><td>0</td><td>7374912</td></tr>\n",
       "<tr><td>72002776386722160</td><td>172124932100022298</td><td>1</td><td>g</td><td>55822.2495841</td><td>277.63870021</td><td>-29.99839874</td><td>1.66245e-05</td><td>1.26538e-06</td><td>1.18484</td><td>1.11249</td><td>0.000158505</td><td>-3.42544e-07</td><td>7.14793e-08</td><td>35653633</td><td>32</td><td>34880</td></tr>\n",
       "<tr><td>72002776381810249</td><td>172124932100020934</td><td>1</td><td>g</td><td>55822.2495841</td><td>277.63810258</td><td>-30.00013586</td><td>8.54158e-06</td><td>1.15918e-06</td><td>1.18527</td><td>1.11332</td><td>0.882581</td><td>-1.01534e-05</td><td>3.89161e-07</td><td>35651585</td><td>0</td><td>1083456</td></tr>\n",
       "<tr><td>72002776378432345</td><td>172124932100006330</td><td>1</td><td>g</td><td>55822.2495841</td><td>277.63781016</td><td>-29.99827665</td><td>7.87476e-05</td><td>1.65752e-06</td><td>1.18495</td><td>1.11262</td><td>0.0</td><td>8.0896e-05</td><td>1.14181e-06</td><td>35651585</td><td>32</td><td>34880</td></tr>\n",
       "<tr><td>72002776380861413</td><td>172124932100013519</td><td>1</td><td>g</td><td>55822.2495841</td><td>277.63806063</td><td>-29.99905024</td><td>2.84228e-05</td><td>1.32519e-06</td><td>1.18501</td><td>1.1127</td><td>0.0120002</td><td>1.59971e-05</td><td>5.0595e-07</td><td>35651585</td><td>32</td><td>34880</td></tr>\n",
       "<tr><td>72002776375147436</td><td>172124932100005655</td><td>1</td><td>g</td><td>55822.2495841</td><td>277.6375183</td><td>-29.99395707</td><td>9.01977e-05</td><td>1.69493e-06</td><td>1.18444</td><td>1.11195</td><td>0.977534</td><td>8.76042e-05</td><td>1.18885e-06</td><td>35667969</td><td>0</td><td>7374912</td></tr>\n",
       "<tr><td>72002776373906978</td><td>172124932100005542</td><td>1</td><td>g</td><td>55822.2495841</td><td>277.63738385</td><td>-29.99452557</td><td>0.000104627</td><td>1.75602e-06</td><td>1.18453</td><td>1.11206</td><td>0.405186</td><td>0.000102921</td><td>1.2886e-06</td><td>35667969</td><td>32</td><td>34880</td></tr>\n",
       "<tr><td>72002776374374977</td><td>172124932100008108</td><td>1</td><td>g</td><td>55822.2495841</td><td>277.63735614</td><td>-29.99610458</td><td>7.41097e-05</td><td>1.57905e-06</td><td>1.18473</td><td>1.11233</td><td>0.0</td><td>7.58825e-05</td><td>1.10586e-06</td><td>35667969</td><td>32</td><td>34880</td></tr>\n",
       "</table></div>"
      ],
      "text/plain": [
       "<Table length=100000>\n",
       "      objID            detectID      filterid ...  infoFlag infoFlag2 infoFlag3\n",
       "                                              ...                              \n",
       "      int64             int64         uint8   ...   int64     int32     int32  \n",
       "----------------- ------------------ -------- ... --------- --------- ---------\n",
       "72002801748879088  89850505040007306        1 ...  35651585         0   3145728\n",
       "72002801754357527  89850505040008502        1 ...  35651585         0   3145728\n",
       "72002801782721082  89850505040002367        1 ... 102760453       128         0\n",
       "72002801785808280  89850505040004123        1 ...  35651585       128   7342144\n",
       "72002801804842373  89850505040007902        1 ...  35651585         0   7342144\n",
       "72002801808126490  89850505040009835        1 ...  35667969         0 124782656\n",
       "72002801826034495  89850505040003082        1 ... 102760453       128   7342144\n",
       "72002801829676324  89850505040004945        1 ...  35651585         0   7342144\n",
       "72002801857942816  89850505040010320        1 ...  35651585         0   7342144\n",
       "              ...                ...      ... ...       ...       ...       ...\n",
       "72002776390151219 172124932100003948        1 ... 102760453       160     34880\n",
       "72002776387404408 172124932100000990        1 ... 102760517       160     34880\n",
       "72002776387056438 172124932100007178        1 ...  35651585         0   7374912\n",
       "72002776386722160 172124932100022298        1 ...  35653633        32     34880\n",
       "72002776381810249 172124932100020934        1 ...  35651585         0   1083456\n",
       "72002776378432345 172124932100006330        1 ...  35651585        32     34880\n",
       "72002776380861413 172124932100013519        1 ...  35651585        32     34880\n",
       "72002776375147436 172124932100005655        1 ...  35667969         0   7374912\n",
       "72002776373906978 172124932100005542        1 ...  35667969        32     34880\n",
       "72002776374374977 172124932100008108        1 ...  35667969        32     34880"
      ]
     },
     "execution_count": 24,
     "metadata": {},
     "output_type": "execute_result"
    }
   ],
   "source": [
    "query = \"\"\"SELECT\n",
    "objID, detectID, Detection.filterID as filterID, Filter.filterType, obsTime, ra, dec,\n",
    "psfFlux, psfFluxErr, psfMajorFWHM, psfMinorFWHM, psfQfPerfect, \n",
    "apFlux, apFluxErr, infoFlag, infoFlag2, infoFlag3\n",
    "FROM Detection\n",
    "NATURAL JOIN Filter\n",
    "WHERE objID >= 72002759236154323\n",
    "AND objID <= 72003271819814312\n",
    "ORDER BY filterID, obsTime\n",
    "\"\"\"\n",
    "print(query)\n",
    "\n",
    "job = TAP_service.search(query)\n",
    "detection_TAP_results = job.to_table()\n",
    "detection_TAP_results"
   ]
  },
  {
   "cell_type": "code",
   "execution_count": 22,
   "id": "38093548",
   "metadata": {},
   "outputs": [
    {
     "name": "stdout",
     "output_type": "stream",
     "text": [
      " Select objID FROM dbo.MeanObjectView Where objID > 72002759234365113\n",
      "\n"
     ]
    },
    {
     "data": {
      "text/html": [
       "<div><i>Table length=100000</i>\n",
       "<table id=\"table139727832061024\" class=\"table-striped table-bordered table-condensed\">\n",
       "<thead><tr><th>objID</th></tr></thead>\n",
       "<thead><tr><th>int64</th></tr></thead>\n",
       "<tr><td>72002759236154323</td></tr>\n",
       "<tr><td>72002759237522000</td></tr>\n",
       "<tr><td>72002759237750310</td></tr>\n",
       "<tr><td>72002759240179723</td></tr>\n",
       "<tr><td>72002759242908506</td></tr>\n",
       "<tr><td>72002759243332517</td></tr>\n",
       "<tr><td>72002759244803110</td></tr>\n",
       "<tr><td>72002759248576572</td></tr>\n",
       "<tr><td>72002759253587362</td></tr>\n",
       "<tr><td>72002759257473998</td></tr>\n",
       "<tr><td>...</td></tr>\n",
       "<tr><td>72003271793956143</td></tr>\n",
       "<tr><td>72003271798306099</td></tr>\n",
       "<tr><td>72003271803344094</td></tr>\n",
       "<tr><td>72003271806321457</td></tr>\n",
       "<tr><td>72003271809383033</td></tr>\n",
       "<tr><td>72003271811016428</td></tr>\n",
       "<tr><td>72003271811350881</td></tr>\n",
       "<tr><td>72003271811612364</td></tr>\n",
       "<tr><td>72003271819094686</td></tr>\n",
       "<tr><td>72003271819814312</td></tr>\n",
       "</table></div>"
      ],
      "text/plain": [
       "<Table length=100000>\n",
       "      objID      \n",
       "      int64      \n",
       "-----------------\n",
       "72002759236154323\n",
       "72002759237522000\n",
       "72002759237750310\n",
       "72002759240179723\n",
       "72002759242908506\n",
       "72002759243332517\n",
       "72002759244803110\n",
       "72002759248576572\n",
       "72002759253587362\n",
       "72002759257473998\n",
       "              ...\n",
       "72003271793956143\n",
       "72003271798306099\n",
       "72003271803344094\n",
       "72003271806321457\n",
       "72003271809383033\n",
       "72003271811016428\n",
       "72003271811350881\n",
       "72003271811612364\n",
       "72003271819094686\n",
       "72003271819814312"
      ]
     },
     "execution_count": 22,
     "metadata": {},
     "output_type": "execute_result"
    }
   ],
   "source": [
    "query = \"\"\" Select objID FROM dbo.MeanObjectView Where objID > 72002759234365113 AND \n",
    "\"\"\"\n",
    "print(query)\n",
    "\n",
    "job = TAP_service.search(query)\n",
    "detection_TAP_results = job.to_table()\n",
    "detection_TAP_results"
   ]
  },
  {
   "cell_type": "code",
   "execution_count": 27,
   "id": "1890d9d5",
   "metadata": {},
   "outputs": [
    {
     "name": "stdout",
     "output_type": "stream",
     "text": [
      " Select Min(objID) FROM dbo.MeanObjectView \n"
     ]
    },
    {
     "ename": "DALQueryError",
     "evalue": "Query execution problem: Execution Timeout Expired.  The timeout period elapsed prior to completion of the operation or the server is not responding.",
     "output_type": "error",
     "traceback": [
      "\u001b[0;31m---------------------------------------------------------------------------\u001b[0m",
      "\u001b[0;31mDALQueryError\u001b[0m                             Traceback (most recent call last)",
      "Input \u001b[0;32mIn [27]\u001b[0m, in \u001b[0;36m<cell line: 4>\u001b[0;34m()\u001b[0m\n\u001b[1;32m      1\u001b[0m query \u001b[38;5;241m=\u001b[39m \u001b[38;5;124m\"\"\"\u001b[39m\u001b[38;5;124m Select Min(objID) FROM dbo.MeanObjectView \u001b[39m\u001b[38;5;124m\"\"\"\u001b[39m\n\u001b[1;32m      2\u001b[0m \u001b[38;5;28mprint\u001b[39m(query)\n\u001b[0;32m----> 4\u001b[0m job \u001b[38;5;241m=\u001b[39m \u001b[43mTAP_service\u001b[49m\u001b[38;5;241;43m.\u001b[39;49m\u001b[43msearch\u001b[49m\u001b[43m(\u001b[49m\u001b[43mquery\u001b[49m\u001b[43m)\u001b[49m\n\u001b[1;32m      5\u001b[0m detection_TAP_results \u001b[38;5;241m=\u001b[39m job\u001b[38;5;241m.\u001b[39mto_table()\n\u001b[1;32m      6\u001b[0m detection_TAP_results\n",
      "File \u001b[0;32m~/.conda/envs/precovery_py39/lib/python3.9/site-packages/pyvo/dal/tap.py:246\u001b[0m, in \u001b[0;36mTAPService.run_sync\u001b[0;34m(self, query, language, maxrec, uploads, **keywords)\u001b[0m\n\u001b[1;32m    219\u001b[0m \u001b[38;5;28;01mdef\u001b[39;00m \u001b[38;5;21mrun_sync\u001b[39m(\n\u001b[1;32m    220\u001b[0m         \u001b[38;5;28mself\u001b[39m, query, language\u001b[38;5;241m=\u001b[39m\u001b[38;5;124m\"\u001b[39m\u001b[38;5;124mADQL\u001b[39m\u001b[38;5;124m\"\u001b[39m, maxrec\u001b[38;5;241m=\u001b[39m\u001b[38;5;28;01mNone\u001b[39;00m, uploads\u001b[38;5;241m=\u001b[39m\u001b[38;5;28;01mNone\u001b[39;00m,\n\u001b[1;32m    221\u001b[0m         \u001b[38;5;241m*\u001b[39m\u001b[38;5;241m*\u001b[39mkeywords):\n\u001b[1;32m    222\u001b[0m     \u001b[38;5;124;03m\"\"\"\u001b[39;00m\n\u001b[1;32m    223\u001b[0m \u001b[38;5;124;03m    runs sync query and returns its result\u001b[39;00m\n\u001b[1;32m    224\u001b[0m \n\u001b[0;32m   (...)\u001b[0m\n\u001b[1;32m    244\u001b[0m \u001b[38;5;124;03m    TAPResults\u001b[39;00m\n\u001b[1;32m    245\u001b[0m \u001b[38;5;124;03m    \"\"\"\u001b[39;00m\n\u001b[0;32m--> 246\u001b[0m     \u001b[38;5;28;01mreturn\u001b[39;00m \u001b[38;5;28;43mself\u001b[39;49m\u001b[38;5;241;43m.\u001b[39;49m\u001b[43mcreate_query\u001b[49m\u001b[43m(\u001b[49m\n\u001b[1;32m    247\u001b[0m \u001b[43m        \u001b[49m\u001b[43mquery\u001b[49m\u001b[43m,\u001b[49m\u001b[43m \u001b[49m\u001b[43mlanguage\u001b[49m\u001b[38;5;241;43m=\u001b[39;49m\u001b[43mlanguage\u001b[49m\u001b[43m,\u001b[49m\u001b[43m \u001b[49m\u001b[43mmaxrec\u001b[49m\u001b[38;5;241;43m=\u001b[39;49m\u001b[43mmaxrec\u001b[49m\u001b[43m,\u001b[49m\u001b[43m \u001b[49m\u001b[43muploads\u001b[49m\u001b[38;5;241;43m=\u001b[39;49m\u001b[43muploads\u001b[49m\u001b[43m,\u001b[49m\n\u001b[1;32m    248\u001b[0m \u001b[43m        \u001b[49m\u001b[38;5;241;43m*\u001b[39;49m\u001b[38;5;241;43m*\u001b[39;49m\u001b[43mkeywords\u001b[49m\u001b[43m)\u001b[49m\u001b[38;5;241;43m.\u001b[39;49m\u001b[43mexecute\u001b[49m\u001b[43m(\u001b[49m\u001b[43m)\u001b[49m\n",
      "File \u001b[0;32m~/.conda/envs/precovery_py39/lib/python3.9/site-packages/pyvo/dal/tap.py:942\u001b[0m, in \u001b[0;36mTAPQuery.execute\u001b[0;34m(self)\u001b[0m\n\u001b[1;32m    928\u001b[0m \u001b[38;5;28;01mdef\u001b[39;00m \u001b[38;5;21mexecute\u001b[39m(\u001b[38;5;28mself\u001b[39m):\n\u001b[1;32m    929\u001b[0m     \u001b[38;5;124;03m\"\"\"\u001b[39;00m\n\u001b[1;32m    930\u001b[0m \u001b[38;5;124;03m    submit the query and return the results as a TAPResults instance\u001b[39;00m\n\u001b[1;32m    931\u001b[0m \n\u001b[0;32m   (...)\u001b[0m\n\u001b[1;32m    940\u001b[0m \u001b[38;5;124;03m       for errors parsing the VOTable response\u001b[39;00m\n\u001b[1;32m    941\u001b[0m \u001b[38;5;124;03m    \"\"\"\u001b[39;00m\n\u001b[0;32m--> 942\u001b[0m     \u001b[38;5;28;01mreturn\u001b[39;00m \u001b[43mTAPResults\u001b[49m\u001b[43m(\u001b[49m\u001b[38;5;28;43mself\u001b[39;49m\u001b[38;5;241;43m.\u001b[39;49m\u001b[43mexecute_votable\u001b[49m\u001b[43m(\u001b[49m\u001b[43m)\u001b[49m\u001b[43m,\u001b[49m\u001b[43m \u001b[49m\u001b[43murl\u001b[49m\u001b[38;5;241;43m=\u001b[39;49m\u001b[38;5;28;43mself\u001b[39;49m\u001b[38;5;241;43m.\u001b[39;49m\u001b[43mqueryurl\u001b[49m\u001b[43m,\u001b[49m\u001b[43m \u001b[49m\u001b[43msession\u001b[49m\u001b[38;5;241;43m=\u001b[39;49m\u001b[38;5;28;43mself\u001b[39;49m\u001b[38;5;241;43m.\u001b[39;49m\u001b[43m_session\u001b[49m\u001b[43m)\u001b[49m\n",
      "File \u001b[0;32m~/.conda/envs/precovery_py39/lib/python3.9/site-packages/pyvo/dal/adhoc.py:111\u001b[0m, in \u001b[0;36mAdhocServiceResultsMixin.__init__\u001b[0;34m(self, votable, url, session)\u001b[0m\n\u001b[1;32m    110\u001b[0m \u001b[38;5;28;01mdef\u001b[39;00m \u001b[38;5;21m__init__\u001b[39m(\u001b[38;5;28mself\u001b[39m, votable, url\u001b[38;5;241m=\u001b[39m\u001b[38;5;28;01mNone\u001b[39;00m, session\u001b[38;5;241m=\u001b[39m\u001b[38;5;28;01mNone\u001b[39;00m):\n\u001b[0;32m--> 111\u001b[0m     \u001b[38;5;28;43msuper\u001b[39;49m\u001b[43m(\u001b[49m\u001b[43m)\u001b[49m\u001b[38;5;241;43m.\u001b[39;49m\u001b[38;5;21;43m__init__\u001b[39;49m\u001b[43m(\u001b[49m\u001b[43mvotable\u001b[49m\u001b[43m,\u001b[49m\u001b[43m \u001b[49m\u001b[43murl\u001b[49m\u001b[38;5;241;43m=\u001b[39;49m\u001b[43murl\u001b[49m\u001b[43m,\u001b[49m\u001b[43m \u001b[49m\u001b[43msession\u001b[49m\u001b[38;5;241;43m=\u001b[39;49m\u001b[43msession\u001b[49m\u001b[43m)\u001b[49m\n\u001b[1;32m    113\u001b[0m     \u001b[38;5;28mself\u001b[39m\u001b[38;5;241m.\u001b[39m_adhocservices \u001b[38;5;241m=\u001b[39m \u001b[38;5;28mlist\u001b[39m(\n\u001b[1;32m    114\u001b[0m         resource \u001b[38;5;28;01mfor\u001b[39;00m resource \u001b[38;5;129;01min\u001b[39;00m votable\u001b[38;5;241m.\u001b[39mresources\n\u001b[1;32m    115\u001b[0m         \u001b[38;5;28;01mif\u001b[39;00m resource\u001b[38;5;241m.\u001b[39mtype \u001b[38;5;241m==\u001b[39m \u001b[38;5;124m\"\u001b[39m\u001b[38;5;124mmeta\u001b[39m\u001b[38;5;124m\"\u001b[39m \u001b[38;5;129;01mand\u001b[39;00m resource\u001b[38;5;241m.\u001b[39mutype \u001b[38;5;241m==\u001b[39m \u001b[38;5;124m\"\u001b[39m\u001b[38;5;124madhoc:service\u001b[39m\u001b[38;5;124m\"\u001b[39m\n\u001b[1;32m    116\u001b[0m     )\n",
      "File \u001b[0;32m~/.conda/envs/precovery_py39/lib/python3.9/site-packages/pyvo/dal/query.py:320\u001b[0m, in \u001b[0;36mDALResults.__init__\u001b[0;34m(self, votable, url, session)\u001b[0m\n\u001b[1;32m    318\u001b[0m \u001b[38;5;28mself\u001b[39m\u001b[38;5;241m.\u001b[39m_status \u001b[38;5;241m=\u001b[39m \u001b[38;5;28mself\u001b[39m\u001b[38;5;241m.\u001b[39m_findstatus(votable)\n\u001b[1;32m    319\u001b[0m \u001b[38;5;28;01mif\u001b[39;00m \u001b[38;5;28mself\u001b[39m\u001b[38;5;241m.\u001b[39m_status[\u001b[38;5;241m0\u001b[39m]\u001b[38;5;241m.\u001b[39mlower() \u001b[38;5;129;01mnot\u001b[39;00m \u001b[38;5;129;01min\u001b[39;00m (\u001b[38;5;124m\"\u001b[39m\u001b[38;5;124mok\u001b[39m\u001b[38;5;124m\"\u001b[39m, \u001b[38;5;124m\"\u001b[39m\u001b[38;5;124moverflow\u001b[39m\u001b[38;5;124m\"\u001b[39m):\n\u001b[0;32m--> 320\u001b[0m     \u001b[38;5;28;01mraise\u001b[39;00m DALQueryError(\u001b[38;5;28mself\u001b[39m\u001b[38;5;241m.\u001b[39m_status[\u001b[38;5;241m1\u001b[39m], \u001b[38;5;28mself\u001b[39m\u001b[38;5;241m.\u001b[39m_status[\u001b[38;5;241m0\u001b[39m], url)\n\u001b[1;32m    322\u001b[0m \u001b[38;5;28mself\u001b[39m\u001b[38;5;241m.\u001b[39m_resultstable \u001b[38;5;241m=\u001b[39m \u001b[38;5;28mself\u001b[39m\u001b[38;5;241m.\u001b[39m_findresultstable(votable)\n\u001b[1;32m    323\u001b[0m \u001b[38;5;28;01mif\u001b[39;00m \u001b[38;5;129;01mnot\u001b[39;00m \u001b[38;5;28mself\u001b[39m\u001b[38;5;241m.\u001b[39m_resultstable:\n",
      "\u001b[0;31mDALQueryError\u001b[0m: Query execution problem: Execution Timeout Expired.  The timeout period elapsed prior to completion of the operation or the server is not responding."
     ]
    }
   ],
   "source": [
    "query = \"\"\" Select Min(objID) FROM dbo.MeanObjectView \"\"\"\n",
    "print(query)\n",
    "\n",
    "job = TAP_service.search(query)\n",
    "detection_TAP_results = job.to_table()\n",
    "detection_TAP_results"
   ]
  },
  {
   "cell_type": "code",
   "execution_count": null,
   "id": "78132f8e",
   "metadata": {},
   "outputs": [],
   "source": [
    "a = 0\n",
    "number = 10\n",
    "DATA_DIR = \"/epyc/projects/adam_datasets/ps1_dr2/objects/\"\n",
    "\n",
    "while(number > 0):\n",
    "    query = f\"\"\" Select objID FROM dbo.MeanObjectView Where objID > {a} AND nDetections < 4\"\"\"\n",
    "    tap_results = TAP_service.search(query)\n",
    "    df = pd.DataFrame(tap_results) \n",
    "    number = len(df)\n",
    "    a = df['objID'].iloc[-1]\n",
    "    df.to_csv(DATA_DIR + f\"objID_{a}.csv\",index = False)"
   ]
  }
 ],
 "metadata": {
  "kernelspec": {
   "display_name": "Precovery (Python 3.9)",
   "language": "python",
   "name": "precovery_py39"
  },
  "language_info": {
   "codemirror_mode": {
    "name": "ipython",
    "version": 3
   },
   "file_extension": ".py",
   "mimetype": "text/x-python",
   "name": "python",
   "nbconvert_exporter": "python",
   "pygments_lexer": "ipython3",
   "version": "3.9.12"
  }
 },
 "nbformat": 4,
 "nbformat_minor": 5
}
